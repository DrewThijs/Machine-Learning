{
  "nbformat": 4,
  "nbformat_minor": 0,
  "metadata": {
    "colab": {
      "name": "Regularisation & Polynomial Feature Scaling in Logistics Regression.ipynb",
      "provenance": [],
      "collapsed_sections": []
    },
    "kernelspec": {
      "name": "python3",
      "display_name": "Python 3"
    },
    "language_info": {
      "name": "python"
    }
  },
  "cells": [
    {
      "cell_type": "markdown",
      "metadata": {
        "id": "aV1xX677z1ks"
      },
      "source": [
        "# 1. Import libraries and pre-process data"
      ]
    },
    {
      "cell_type": "markdown",
      "metadata": {
        "id": "Q1x53P5d0e_n"
      },
      "source": [
        "**1.1. Import liabraries**"
      ]
    },
    {
      "cell_type": "code",
      "metadata": {
        "id": "Xg8I-WBNTru8"
      },
      "source": [
        "import pandas as pd\n",
        "import numpy as np\n",
        "import matplotlib.pyplot as plt\n",
        "from mpl_toolkits.mplot3d import Axes3D\n",
        "from matplotlib.colors import ListedColormap\n",
        "from sklearn.preprocessing import PolynomialFeatures\n",
        "import scipy.optimize as opt\n",
        "import random\n",
        "import warnings"
      ],
      "execution_count": null,
      "outputs": []
    },
    {
      "cell_type": "markdown",
      "metadata": {
        "id": "M5D9r1eq0lVD"
      },
      "source": [
        "**1.2. Import data**"
      ]
    },
    {
      "cell_type": "markdown",
      "metadata": {
        "id": "djcAflm4YQVY"
      },
      "source": [
        "The data describes the chance of microchip's acceptance after two test"
      ]
    },
    {
      "cell_type": "code",
      "metadata": {
        "colab": {
          "base_uri": "https://localhost:8080/",
          "height": 206
        },
        "id": "NWxcCl4IziI6",
        "outputId": "9d24fb80-cedf-4c86-ac70-f11edd155dab"
      },
      "source": [
        "df = pd.read_csv ('https://raw.githubusercontent.com/Nikronic/Coursera-Machine-Learning/master/Week%203%20-%20Logistic%20Regression/ex2data2.csv', names = ['Test #1', 'Test #2', 'Accepted'])\n",
        "df.head ()"
      ],
      "execution_count": null,
      "outputs": [
        {
          "output_type": "execute_result",
          "data": {
            "text/html": [
              "\n",
              "  <div id=\"df-4f4b811c-9280-4cb5-983b-b9311c8caa3a\">\n",
              "    <div class=\"colab-df-container\">\n",
              "      <div>\n",
              "<style scoped>\n",
              "    .dataframe tbody tr th:only-of-type {\n",
              "        vertical-align: middle;\n",
              "    }\n",
              "\n",
              "    .dataframe tbody tr th {\n",
              "        vertical-align: top;\n",
              "    }\n",
              "\n",
              "    .dataframe thead th {\n",
              "        text-align: right;\n",
              "    }\n",
              "</style>\n",
              "<table border=\"1\" class=\"dataframe\">\n",
              "  <thead>\n",
              "    <tr style=\"text-align: right;\">\n",
              "      <th></th>\n",
              "      <th>Test #1</th>\n",
              "      <th>Test #2</th>\n",
              "      <th>Accepted</th>\n",
              "    </tr>\n",
              "  </thead>\n",
              "  <tbody>\n",
              "    <tr>\n",
              "      <th>0</th>\n",
              "      <td>0.051267</td>\n",
              "      <td>0.69956</td>\n",
              "      <td>1</td>\n",
              "    </tr>\n",
              "    <tr>\n",
              "      <th>1</th>\n",
              "      <td>-0.092742</td>\n",
              "      <td>0.68494</td>\n",
              "      <td>1</td>\n",
              "    </tr>\n",
              "    <tr>\n",
              "      <th>2</th>\n",
              "      <td>-0.213710</td>\n",
              "      <td>0.69225</td>\n",
              "      <td>1</td>\n",
              "    </tr>\n",
              "    <tr>\n",
              "      <th>3</th>\n",
              "      <td>-0.375000</td>\n",
              "      <td>0.50219</td>\n",
              "      <td>1</td>\n",
              "    </tr>\n",
              "    <tr>\n",
              "      <th>4</th>\n",
              "      <td>-0.513250</td>\n",
              "      <td>0.46564</td>\n",
              "      <td>1</td>\n",
              "    </tr>\n",
              "  </tbody>\n",
              "</table>\n",
              "</div>\n",
              "      <button class=\"colab-df-convert\" onclick=\"convertToInteractive('df-4f4b811c-9280-4cb5-983b-b9311c8caa3a')\"\n",
              "              title=\"Convert this dataframe to an interactive table.\"\n",
              "              style=\"display:none;\">\n",
              "        \n",
              "  <svg xmlns=\"http://www.w3.org/2000/svg\" height=\"24px\"viewBox=\"0 0 24 24\"\n",
              "       width=\"24px\">\n",
              "    <path d=\"M0 0h24v24H0V0z\" fill=\"none\"/>\n",
              "    <path d=\"M18.56 5.44l.94 2.06.94-2.06 2.06-.94-2.06-.94-.94-2.06-.94 2.06-2.06.94zm-11 1L8.5 8.5l.94-2.06 2.06-.94-2.06-.94L8.5 2.5l-.94 2.06-2.06.94zm10 10l.94 2.06.94-2.06 2.06-.94-2.06-.94-.94-2.06-.94 2.06-2.06.94z\"/><path d=\"M17.41 7.96l-1.37-1.37c-.4-.4-.92-.59-1.43-.59-.52 0-1.04.2-1.43.59L10.3 9.45l-7.72 7.72c-.78.78-.78 2.05 0 2.83L4 21.41c.39.39.9.59 1.41.59.51 0 1.02-.2 1.41-.59l7.78-7.78 2.81-2.81c.8-.78.8-2.07 0-2.86zM5.41 20L4 18.59l7.72-7.72 1.47 1.35L5.41 20z\"/>\n",
              "  </svg>\n",
              "      </button>\n",
              "      \n",
              "  <style>\n",
              "    .colab-df-container {\n",
              "      display:flex;\n",
              "      flex-wrap:wrap;\n",
              "      gap: 12px;\n",
              "    }\n",
              "\n",
              "    .colab-df-convert {\n",
              "      background-color: #E8F0FE;\n",
              "      border: none;\n",
              "      border-radius: 50%;\n",
              "      cursor: pointer;\n",
              "      display: none;\n",
              "      fill: #1967D2;\n",
              "      height: 32px;\n",
              "      padding: 0 0 0 0;\n",
              "      width: 32px;\n",
              "    }\n",
              "\n",
              "    .colab-df-convert:hover {\n",
              "      background-color: #E2EBFA;\n",
              "      box-shadow: 0px 1px 2px rgba(60, 64, 67, 0.3), 0px 1px 3px 1px rgba(60, 64, 67, 0.15);\n",
              "      fill: #174EA6;\n",
              "    }\n",
              "\n",
              "    [theme=dark] .colab-df-convert {\n",
              "      background-color: #3B4455;\n",
              "      fill: #D2E3FC;\n",
              "    }\n",
              "\n",
              "    [theme=dark] .colab-df-convert:hover {\n",
              "      background-color: #434B5C;\n",
              "      box-shadow: 0px 1px 3px 1px rgba(0, 0, 0, 0.15);\n",
              "      filter: drop-shadow(0px 1px 2px rgba(0, 0, 0, 0.3));\n",
              "      fill: #FFFFFF;\n",
              "    }\n",
              "  </style>\n",
              "\n",
              "      <script>\n",
              "        const buttonEl =\n",
              "          document.querySelector('#df-4f4b811c-9280-4cb5-983b-b9311c8caa3a button.colab-df-convert');\n",
              "        buttonEl.style.display =\n",
              "          google.colab.kernel.accessAllowed ? 'block' : 'none';\n",
              "\n",
              "        async function convertToInteractive(key) {\n",
              "          const element = document.querySelector('#df-4f4b811c-9280-4cb5-983b-b9311c8caa3a');\n",
              "          const dataTable =\n",
              "            await google.colab.kernel.invokeFunction('convertToInteractive',\n",
              "                                                     [key], {});\n",
              "          if (!dataTable) return;\n",
              "\n",
              "          const docLinkHtml = 'Like what you see? Visit the ' +\n",
              "            '<a target=\"_blank\" href=https://colab.research.google.com/notebooks/data_table.ipynb>data table notebook</a>'\n",
              "            + ' to learn more about interactive tables.';\n",
              "          element.innerHTML = '';\n",
              "          dataTable['output_type'] = 'display_data';\n",
              "          await google.colab.output.renderOutput(dataTable, element);\n",
              "          const docLink = document.createElement('div');\n",
              "          docLink.innerHTML = docLinkHtml;\n",
              "          element.appendChild(docLink);\n",
              "        }\n",
              "      </script>\n",
              "    </div>\n",
              "  </div>\n",
              "  "
            ],
            "text/plain": [
              "    Test #1  Test #2  Accepted\n",
              "0  0.051267  0.69956         1\n",
              "1 -0.092742  0.68494         1\n",
              "2 -0.213710  0.69225         1\n",
              "3 -0.375000  0.50219         1\n",
              "4 -0.513250  0.46564         1"
            ]
          },
          "metadata": {},
          "execution_count": 2
        }
      ]
    },
    {
      "cell_type": "code",
      "metadata": {
        "colab": {
          "base_uri": "https://localhost:8080/"
        },
        "id": "9WAo7-Hj0r31",
        "outputId": "d9eb292e-d845-4634-f27f-ee1278ab9eb1"
      },
      "source": [
        "# Split data X & y\n",
        "X = df.iloc [:, :2].values\n",
        "y = df.iloc [:, -1].values\n",
        "m, n = X.shape\n",
        "print (f'{m} training samples, {n} features \\n')\n",
        "\n",
        "# Show the first five X & y\n",
        "for i in range (5):\n",
        "    print ('X =', X[i ], ', y =', y[i])"
      ],
      "execution_count": null,
      "outputs": [
        {
          "output_type": "stream",
          "name": "stdout",
          "text": [
            "118 training samples, 2 features \n",
            "\n",
            "X = [0.051267 0.69956 ] , y = 1\n",
            "X = [-0.092742  0.68494 ] , y = 1\n",
            "X = [-0.21371  0.69225] , y = 1\n",
            "X = [-0.375    0.50219] , y = 1\n",
            "X = [-0.51325  0.46564] , y = 1\n"
          ]
        }
      ]
    },
    {
      "cell_type": "markdown",
      "metadata": {
        "id": "eGxWfO_g4YGu"
      },
      "source": [
        "# 2. Plot data "
      ]
    },
    {
      "cell_type": "markdown",
      "metadata": {
        "id": "GZ6L0xQ24rSv"
      },
      "source": [
        "**2.1. 3D Scatter**"
      ]
    },
    {
      "cell_type": "code",
      "metadata": {
        "colab": {
          "base_uri": "https://localhost:8080/",
          "height": 463
        },
        "id": "u4dlNjLm4q26",
        "outputId": "c05d2504-2d9c-473c-e9fd-cc2ee7f60769"
      },
      "source": [
        "fig = plt.figure (figsize = (8, 6))\n",
        "ax = Axes3D (fig)\n",
        "\n",
        "ax.scatter (X[:,0], X[:,1], y, c = 'g')\n",
        "plt.show ()"
      ],
      "execution_count": null,
      "outputs": [
        {
          "output_type": "display_data",
          "data": {
            "image/png": "[encoded data removed]",
            "text/plain": [
              "<Figure size 576x432 with 1 Axes>"
            ]
          },
          "metadata": {
            "needs_background": "light"
          }
        }
      ]
    },
    {
      "cell_type": "markdown",
      "metadata": {
        "id": "O9clpDgq5tn-"
      },
      "source": [
        "*2.2. 2D Scatter*"
      ]
    },
    {
      "cell_type": "code",
      "metadata": {
        "colab": {
          "base_uri": "https://localhost:8080/"
        },
        "id": "qejelEXjFcXA",
        "outputId": "5a0480f0-c5c8-48a2-a7aa-734e025d0def"
      },
      "source": [
        "df_accepted = df[df['Accepted'] == 1]\n",
        "df_notaccepted = df[df['Accepted'] == 0]\n",
        "\n",
        "df_accepted.iloc [:, 1].head ()\n"
      ],
      "execution_count": null,
      "outputs": [
        {
          "output_type": "execute_result",
          "data": {
            "text/plain": [
              "0    0.69956\n",
              "1    0.68494\n",
              "2    0.69225\n",
              "3    0.50219\n",
              "4    0.46564\n",
              "Name: Test #2, dtype: float64"
            ]
          },
          "metadata": {},
          "execution_count": 5
        }
      ]
    },
    {
      "cell_type": "code",
      "metadata": {
        "colab": {
          "base_uri": "https://localhost:8080/",
          "height": 404
        },
        "id": "s4pIsPMmHTli",
        "outputId": "d4bb0e5e-3558-48c5-b863-f57c63f666f3"
      },
      "source": [
        "plt.figure (figsize = (8, 6))\n",
        "plt.scatter (df_accepted.iloc [:, 0], df_accepted.iloc [:, 1], c = 'g',  label = 'Accepted')\n",
        "plt.scatter (df_notaccepted.iloc [:, 0], df_notaccepted.iloc [:, 1], c = 'r', label = 'Not Accepted')\n",
        "\n",
        "plt.title ('Accepted vs Not Accepted Microchip Tests- Regularisation applied')\n",
        "plt.xlabel ('Microchip Test #1')\n",
        "plt.ylabel ('Microchip Test #2')\n",
        "plt.legend ()\n",
        "plt.show ()"
      ],
      "execution_count": null,
      "outputs": [
        {
          "output_type": "display_data",
          "data": {
            "image/png": "[encoded data removed]",
            "text/plain": [
              "<Figure size 576x432 with 1 Axes>"
            ]
          },
          "metadata": {
            "needs_background": "light"
          }
        }
      ]
    },
    {
      "cell_type": "markdown",
      "metadata": {
        "id": "Xx-_8k5IJq2x"
      },
      "source": [
        "# 3. Features Mapping"
      ]
    },
    {
      "cell_type": "code",
      "metadata": {
        "colab": {
          "base_uri": "https://localhost:8080/",
          "height": 357
        },
        "id": "UqtzR35tJHAk",
        "outputId": "b8488441-e847-4210-bab3-8eee89326609"
      },
      "source": [
        "# Using sklearn module with Polyminal Features \n",
        "# We also need to include bias (insert first column with bias value of '1') -> include_bias = True\n",
        "\n",
        "pf = PolynomialFeatures (degree= 6, include_bias= True)\n",
        "x_poly = pf.fit_transform (X)\n",
        "pd.DataFrame (x_poly).head ()"
      ],
      "execution_count": null,
      "outputs": [
        {
          "output_type": "execute_result",
          "data": {
            "text/html": [
              "\n",
              "  <div id=\"df-c01977ae-47cf-4e90-bdd6-a3490519e2be\">\n",
              "    <div class=\"colab-df-container\">\n",
              "      <div>\n",
              "<style scoped>\n",
              "    .dataframe tbody tr th:only-of-type {\n",
              "        vertical-align: middle;\n",
              "    }\n",
              "\n",
              "    .dataframe tbody tr th {\n",
              "        vertical-align: top;\n",
              "    }\n",
              "\n",
              "    .dataframe thead th {\n",
              "        text-align: right;\n",
              "    }\n",
              "</style>\n",
              "<table border=\"1\" class=\"dataframe\">\n",
              "  <thead>\n",
              "    <tr style=\"text-align: right;\">\n",
              "      <th></th>\n",
              "      <th>0</th>\n",
              "      <th>1</th>\n",
              "      <th>2</th>\n",
              "      <th>3</th>\n",
              "      <th>4</th>\n",
              "      <th>5</th>\n",
              "      <th>6</th>\n",
              "      <th>7</th>\n",
              "      <th>8</th>\n",
              "      <th>9</th>\n",
              "      <th>10</th>\n",
              "      <th>11</th>\n",
              "      <th>12</th>\n",
              "      <th>13</th>\n",
              "      <th>14</th>\n",
              "      <th>15</th>\n",
              "      <th>16</th>\n",
              "      <th>17</th>\n",
              "      <th>18</th>\n",
              "      <th>19</th>\n",
              "      <th>20</th>\n",
              "      <th>21</th>\n",
              "      <th>22</th>\n",
              "      <th>23</th>\n",
              "      <th>24</th>\n",
              "      <th>25</th>\n",
              "      <th>26</th>\n",
              "      <th>27</th>\n",
              "    </tr>\n",
              "  </thead>\n",
              "  <tbody>\n",
              "    <tr>\n",
              "      <th>0</th>\n",
              "      <td>1.0</td>\n",
              "      <td>0.051267</td>\n",
              "      <td>0.69956</td>\n",
              "      <td>0.002628</td>\n",
              "      <td>0.035864</td>\n",
              "      <td>0.489384</td>\n",
              "      <td>0.000135</td>\n",
              "      <td>0.001839</td>\n",
              "      <td>0.025089</td>\n",
              "      <td>0.342354</td>\n",
              "      <td>0.000007</td>\n",
              "      <td>0.000094</td>\n",
              "      <td>0.001286</td>\n",
              "      <td>0.017551</td>\n",
              "      <td>0.239497</td>\n",
              "      <td>3.541519e-07</td>\n",
              "      <td>0.000005</td>\n",
              "      <td>0.000066</td>\n",
              "      <td>0.000900</td>\n",
              "      <td>0.012278</td>\n",
              "      <td>0.167542</td>\n",
              "      <td>1.815630e-08</td>\n",
              "      <td>2.477505e-07</td>\n",
              "      <td>0.000003</td>\n",
              "      <td>0.000046</td>\n",
              "      <td>0.000629</td>\n",
              "      <td>0.008589</td>\n",
              "      <td>0.117206</td>\n",
              "    </tr>\n",
              "    <tr>\n",
              "      <th>1</th>\n",
              "      <td>1.0</td>\n",
              "      <td>-0.092742</td>\n",
              "      <td>0.68494</td>\n",
              "      <td>0.008601</td>\n",
              "      <td>-0.063523</td>\n",
              "      <td>0.469143</td>\n",
              "      <td>-0.000798</td>\n",
              "      <td>0.005891</td>\n",
              "      <td>-0.043509</td>\n",
              "      <td>0.321335</td>\n",
              "      <td>0.000074</td>\n",
              "      <td>-0.000546</td>\n",
              "      <td>0.004035</td>\n",
              "      <td>-0.029801</td>\n",
              "      <td>0.220095</td>\n",
              "      <td>-6.860919e-06</td>\n",
              "      <td>0.000051</td>\n",
              "      <td>-0.000374</td>\n",
              "      <td>0.002764</td>\n",
              "      <td>-0.020412</td>\n",
              "      <td>0.150752</td>\n",
              "      <td>6.362953e-07</td>\n",
              "      <td>-4.699318e-06</td>\n",
              "      <td>0.000035</td>\n",
              "      <td>-0.000256</td>\n",
              "      <td>0.001893</td>\n",
              "      <td>-0.013981</td>\n",
              "      <td>0.103256</td>\n",
              "    </tr>\n",
              "    <tr>\n",
              "      <th>2</th>\n",
              "      <td>1.0</td>\n",
              "      <td>-0.213710</td>\n",
              "      <td>0.69225</td>\n",
              "      <td>0.045672</td>\n",
              "      <td>-0.147941</td>\n",
              "      <td>0.479210</td>\n",
              "      <td>-0.009761</td>\n",
              "      <td>0.031616</td>\n",
              "      <td>-0.102412</td>\n",
              "      <td>0.331733</td>\n",
              "      <td>0.002086</td>\n",
              "      <td>-0.006757</td>\n",
              "      <td>0.021886</td>\n",
              "      <td>-0.070895</td>\n",
              "      <td>0.229642</td>\n",
              "      <td>-4.457837e-04</td>\n",
              "      <td>0.001444</td>\n",
              "      <td>-0.004677</td>\n",
              "      <td>0.015151</td>\n",
              "      <td>-0.049077</td>\n",
              "      <td>0.158970</td>\n",
              "      <td>9.526844e-05</td>\n",
              "      <td>-3.085938e-04</td>\n",
              "      <td>0.001000</td>\n",
              "      <td>-0.003238</td>\n",
              "      <td>0.010488</td>\n",
              "      <td>-0.033973</td>\n",
              "      <td>0.110047</td>\n",
              "    </tr>\n",
              "    <tr>\n",
              "      <th>3</th>\n",
              "      <td>1.0</td>\n",
              "      <td>-0.375000</td>\n",
              "      <td>0.50219</td>\n",
              "      <td>0.140625</td>\n",
              "      <td>-0.188321</td>\n",
              "      <td>0.252195</td>\n",
              "      <td>-0.052734</td>\n",
              "      <td>0.070620</td>\n",
              "      <td>-0.094573</td>\n",
              "      <td>0.126650</td>\n",
              "      <td>0.019775</td>\n",
              "      <td>-0.026483</td>\n",
              "      <td>0.035465</td>\n",
              "      <td>-0.047494</td>\n",
              "      <td>0.063602</td>\n",
              "      <td>-7.415771e-03</td>\n",
              "      <td>0.009931</td>\n",
              "      <td>-0.013299</td>\n",
              "      <td>0.017810</td>\n",
              "      <td>-0.023851</td>\n",
              "      <td>0.031940</td>\n",
              "      <td>2.780914e-03</td>\n",
              "      <td>-3.724126e-03</td>\n",
              "      <td>0.004987</td>\n",
              "      <td>-0.006679</td>\n",
              "      <td>0.008944</td>\n",
              "      <td>-0.011978</td>\n",
              "      <td>0.016040</td>\n",
              "    </tr>\n",
              "    <tr>\n",
              "      <th>4</th>\n",
              "      <td>1.0</td>\n",
              "      <td>-0.513250</td>\n",
              "      <td>0.46564</td>\n",
              "      <td>0.263426</td>\n",
              "      <td>-0.238990</td>\n",
              "      <td>0.216821</td>\n",
              "      <td>-0.135203</td>\n",
              "      <td>0.122661</td>\n",
              "      <td>-0.111283</td>\n",
              "      <td>0.100960</td>\n",
              "      <td>0.069393</td>\n",
              "      <td>-0.062956</td>\n",
              "      <td>0.057116</td>\n",
              "      <td>-0.051818</td>\n",
              "      <td>0.047011</td>\n",
              "      <td>-3.561597e-02</td>\n",
              "      <td>0.032312</td>\n",
              "      <td>-0.029315</td>\n",
              "      <td>0.026596</td>\n",
              "      <td>-0.024128</td>\n",
              "      <td>0.021890</td>\n",
              "      <td>1.827990e-02</td>\n",
              "      <td>-1.658422e-02</td>\n",
              "      <td>0.015046</td>\n",
              "      <td>-0.013650</td>\n",
              "      <td>0.012384</td>\n",
              "      <td>-0.011235</td>\n",
              "      <td>0.010193</td>\n",
              "    </tr>\n",
              "  </tbody>\n",
              "</table>\n",
              "</div>\n",
              "      <button class=\"colab-df-convert\" onclick=\"convertToInteractive('df-c01977ae-47cf-4e90-bdd6-a3490519e2be')\"\n",
              "              title=\"Convert this dataframe to an interactive table.\"\n",
              "              style=\"display:none;\">\n",
              "        \n",
              "  <svg xmlns=\"http://www.w3.org/2000/svg\" height=\"24px\"viewBox=\"0 0 24 24\"\n",
              "       width=\"24px\">\n",
              "    <path d=\"M0 0h24v24H0V0z\" fill=\"none\"/>\n",
              "    <path d=\"M18.56 5.44l.94 2.06.94-2.06 2.06-.94-2.06-.94-.94-2.06-.94 2.06-2.06.94zm-11 1L8.5 8.5l.94-2.06 2.06-.94-2.06-.94L8.5 2.5l-.94 2.06-2.06.94zm10 10l.94 2.06.94-2.06 2.06-.94-2.06-.94-.94-2.06-.94 2.06-2.06.94z\"/><path d=\"M17.41 7.96l-1.37-1.37c-.4-.4-.92-.59-1.43-.59-.52 0-1.04.2-1.43.59L10.3 9.45l-7.72 7.72c-.78.78-.78 2.05 0 2.83L4 21.41c.39.39.9.59 1.41.59.51 0 1.02-.2 1.41-.59l7.78-7.78 2.81-2.81c.8-.78.8-2.07 0-2.86zM5.41 20L4 18.59l7.72-7.72 1.47 1.35L5.41 20z\"/>\n",
              "  </svg>\n",
              "      </button>\n",
              "      \n",
              "  <style>\n",
              "    .colab-df-container {\n",
              "      display:flex;\n",
              "      flex-wrap:wrap;\n",
              "      gap: 12px;\n",
              "    }\n",
              "\n",
              "    .colab-df-convert {\n",
              "      background-color: #E8F0FE;\n",
              "      border: none;\n",
              "      border-radius: 50%;\n",
              "      cursor: pointer;\n",
              "      display: none;\n",
              "      fill: #1967D2;\n",
              "      height: 32px;\n",
              "      padding: 0 0 0 0;\n",
              "      width: 32px;\n",
              "    }\n",
              "\n",
              "    .colab-df-convert:hover {\n",
              "      background-color: #E2EBFA;\n",
              "      box-shadow: 0px 1px 2px rgba(60, 64, 67, 0.3), 0px 1px 3px 1px rgba(60, 64, 67, 0.15);\n",
              "      fill: #174EA6;\n",
              "    }\n",
              "\n",
              "    [theme=dark] .colab-df-convert {\n",
              "      background-color: #3B4455;\n",
              "      fill: #D2E3FC;\n",
              "    }\n",
              "\n",
              "    [theme=dark] .colab-df-convert:hover {\n",
              "      background-color: #434B5C;\n",
              "      box-shadow: 0px 1px 3px 1px rgba(0, 0, 0, 0.15);\n",
              "      filter: drop-shadow(0px 1px 2px rgba(0, 0, 0, 0.3));\n",
              "      fill: #FFFFFF;\n",
              "    }\n",
              "  </style>\n",
              "\n",
              "      <script>\n",
              "        const buttonEl =\n",
              "          document.querySelector('#df-c01977ae-47cf-4e90-bdd6-a3490519e2be button.colab-df-convert');\n",
              "        buttonEl.style.display =\n",
              "          google.colab.kernel.accessAllowed ? 'block' : 'none';\n",
              "\n",
              "        async function convertToInteractive(key) {\n",
              "          const element = document.querySelector('#df-c01977ae-47cf-4e90-bdd6-a3490519e2be');\n",
              "          const dataTable =\n",
              "            await google.colab.kernel.invokeFunction('convertToInteractive',\n",
              "                                                     [key], {});\n",
              "          if (!dataTable) return;\n",
              "\n",
              "          const docLinkHtml = 'Like what you see? Visit the ' +\n",
              "            '<a target=\"_blank\" href=https://colab.research.google.com/notebooks/data_table.ipynb>data table notebook</a>'\n",
              "            + ' to learn more about interactive tables.';\n",
              "          element.innerHTML = '';\n",
              "          dataTable['output_type'] = 'display_data';\n",
              "          await google.colab.output.renderOutput(dataTable, element);\n",
              "          const docLink = document.createElement('div');\n",
              "          docLink.innerHTML = docLinkHtml;\n",
              "          element.appendChild(docLink);\n",
              "        }\n",
              "      </script>\n",
              "    </div>\n",
              "  </div>\n",
              "  "
            ],
            "text/plain": [
              "    0         1        2         3   ...        24        25        26        27\n",
              "0  1.0  0.051267  0.69956  0.002628  ...  0.000046  0.000629  0.008589  0.117206\n",
              "1  1.0 -0.092742  0.68494  0.008601  ... -0.000256  0.001893 -0.013981  0.103256\n",
              "2  1.0 -0.213710  0.69225  0.045672  ... -0.003238  0.010488 -0.033973  0.110047\n",
              "3  1.0 -0.375000  0.50219  0.140625  ... -0.006679  0.008944 -0.011978  0.016040\n",
              "4  1.0 -0.513250  0.46564  0.263426  ... -0.013650  0.012384 -0.011235  0.010193\n",
              "\n",
              "[5 rows x 28 columns]"
            ]
          },
          "metadata": {},
          "execution_count": 7
        }
      ]
    },
    {
      "cell_type": "markdown",
      "metadata": {
        "id": "ZyQfVZqjKwZv"
      },
      "source": [
        "# 4. Add functions for compuatation"
      ]
    },
    {
      "cell_type": "code",
      "metadata": {
        "id": "mf1At-sZKPdV"
      },
      "source": [
        "m, n = x_poly.shape \n",
        "\n",
        "# Define theta[0]\n",
        "initial_theta = np.zeros (n)\n",
        "\n",
        "# Define hyperparameter \n",
        "lambda_ = 1\n",
        "\n",
        "# reshape y (-1, 1)\n",
        "# y = y.reshape (-1, 1)"
      ],
      "execution_count": null,
      "outputs": []
    },
    {
      "cell_type": "code",
      "metadata": {
        "id": "X1QyxfcJLhcd"
      },
      "source": [
        "# Sigmoid function\n",
        "\n",
        "def sigmoid (z):\n",
        "    g = 1/ (1 + np.exp (-z))\n",
        "    return g"
      ],
      "execution_count": null,
      "outputs": []
    },
    {
      "cell_type": "code",
      "metadata": {
        "id": "IlmXUFgtUw2Q"
      },
      "source": [
        "def lr_hypothesis (x,theta):\n",
        "    return np.dot(x,theta)"
      ],
      "execution_count": null,
      "outputs": []
    },
    {
      "cell_type": "code",
      "metadata": {
        "id": "ToE5D8HnLx9N"
      },
      "source": [
        "# Cost function\n",
        "\n",
        "def cost_function (theta, x, y, lambda_):\n",
        "    m, n = x.shape\n",
        "    hx = sigmoid (x.dot (theta))\n",
        "    \n",
        "    J =  1.0 / m * (np.sum( -y.T.dot(np.log(hx)) - (1 - y.T).dot(np.log(1 - hx)) )) + (lambda_ * np.sum(theta [1:]**2)/ (2.0 *m))\n",
        "    return J\n"
      ],
      "execution_count": null,
      "outputs": []
    },
    {
      "cell_type": "code",
      "metadata": {
        "id": "sJKaKu5KNH_k"
      },
      "source": [
        "# Gradient function\n",
        "\n",
        "def gradient_function (theta, x, y, lambda_):\n",
        "    m, n = x.shape\n",
        "    hx = sigmoid (x.dot (theta))\n",
        "    \n",
        "    # Initial theta set to zeros\n",
        "    initial_theta = np.zeros (n)\n",
        "    # Set theta[0] = 0, theta [1:] = 1\n",
        "    # theta = np.concatenate (([0], np.ones(len(initial_theta) - 1)))\n",
        "\n",
        "    # Initial gradient set to zeros\n",
        "    gradient = np.zeros (np.shape (theta))\n",
        "    # gradient = ((hx - y).T.dot(x) / m).T + (np.dot(lambda_, theta)).dot(initial_theta)/ m\n",
        "\n",
        "    err = sigmoid (x.dot(theta)) - y\n",
        "    gradient [0] = (1/m) * (x[:,0].T@err)\n",
        "    gradient [1:] = (1/m) * (x[:,1:].T@err) + (lambda_/m) * theta[1:]\n",
        "    return gradient\n"
      ],
      "execution_count": null,
      "outputs": []
    },
    {
      "cell_type": "code",
      "metadata": {
        "colab": {
          "base_uri": "https://localhost:8080/"
        },
        "id": "bqKXjqHBOCfI",
        "outputId": "871d790b-dc08-4ee3-c1a8-c141151fa980"
      },
      "source": [
        "# Test cost function\n",
        "test_lambda_ = 1\n",
        "test_theta = np.zeros (n)\n",
        "cost_temp = cost_function (test_theta, x_poly, y, test_lambda_)\n",
        "gradient_temp = gradient_function (test_theta, x_poly, y, test_lambda_)\n",
        "\n",
        "print (f'For lambda = {test_lambda_}, theta = 0 \\n =====> Cost =', cost_temp.round(4), '\\n =====> Gradient[:5] =', gradient_temp[:5].round(4))\n"
      ],
      "execution_count": null,
      "outputs": [
        {
          "output_type": "stream",
          "name": "stdout",
          "text": [
            "For lambda = 1, theta = 0 \n",
            " =====> Cost = 0.6931 \n",
            " =====> Gradient[:5] = [0.0085 0.0188 0.0001 0.0503 0.0115]\n"
          ]
        }
      ]
    },
    {
      "cell_type": "code",
      "metadata": {
        "id": "cLsEPNn5Onl8",
        "colab": {
          "base_uri": "https://localhost:8080/"
        },
        "outputId": "df75a2f8-2079-4807-8ba0-17cd5665d750"
      },
      "source": [
        "test_lambda_ = 10\n",
        "test_theta = np.ones (n)\n",
        "\n",
        "cost_temp = cost_function (test_theta, x_poly, y, test_lambda_)\n",
        "gradient_temp = gradient_function (test_theta, x_poly, y, test_lambda_)\n",
        "\n",
        "print (f'For lambda = {test_lambda_}, theta  = 1 \\n =====> Cost =', cost_temp.round(4), '\\n =====> Gradient[:5] =', gradient_temp[:5].round(4))\n"
      ],
      "execution_count": null,
      "outputs": [
        {
          "output_type": "stream",
          "name": "stdout",
          "text": [
            "For lambda = 10, theta  = 1 \n",
            " =====> Cost = 3.1645 \n",
            " =====> Gradient[:5] = [0.346  0.1614 0.1948 0.2269 0.0922]\n"
          ]
        }
      ]
    },
    {
      "cell_type": "code",
      "metadata": {
        "id": "R1qEVlAlV_9-"
      },
      "source": [
        "''' \n",
        "Insert function for prediction\n",
        "if sigmoid (x_dot_theta) <= 0.5 -> y = 0\n",
        "else sigmoid (x_dot_theta) > 0.5 -> y = 1\n",
        "''' \n",
        "\n",
        "def predict (theta, X):\n",
        "    p = sigmoid (X.dot(theta)) >= 0.5\n",
        "    return p.astype (int)"
      ],
      "execution_count": null,
      "outputs": []
    },
    {
      "cell_type": "markdown",
      "metadata": {
        "id": "qYM4m7v_vn0y"
      },
      "source": [
        "# 5. Comparison among Lambda, Cost value and its accuracy rate"
      ]
    },
    {
      "cell_type": "code",
      "metadata": {
        "colab": {
          "base_uri": "https://localhost:8080/",
          "height": 206
        },
        "id": "0ysErUKawFcw",
        "outputId": "246b58e8-ade2-4436-8278-25e7b56f19b5"
      },
      "source": [
        "lambda_list = np.arange (0, 100, 1)\n",
        "costs = []\n",
        "accuracy = []\n",
        "initial_theta = np.zeros (n)\n",
        "\n",
        "for lambda_ in lambda_list:\n",
        "    theta, nfeval, rc = opt.fmin_tnc(func = cost_function, fprime = gradient_function, x0 = initial_theta, args = (x_poly, y, lambda_))\n",
        "    cost = cost_function (theta, x_poly, y, lambda_).round (4)\n",
        "    costs.append (cost)\n",
        "    p = predict (theta, x_poly)\n",
        "    acc = (np.mean (p == y) * 100)\n",
        "    accuracy.append (acc)\n",
        "\n",
        "df1 = pd.DataFrame (list(zip (lambda_list, costs, accuracy)), columns= ['lambda', 'cost_value', 'accuracy'], index = None )\n",
        "df1.head ()"
      ],
      "execution_count": null,
      "outputs": [
        {
          "output_type": "execute_result",
          "data": {
            "text/html": [
              "\n",
              "  <div id=\"df-33174c32-c799-4ff0-bf6d-6c072bdbe832\">\n",
              "    <div class=\"colab-df-container\">\n",
              "      <div>\n",
              "<style scoped>\n",
              "    .dataframe tbody tr th:only-of-type {\n",
              "        vertical-align: middle;\n",
              "    }\n",
              "\n",
              "    .dataframe tbody tr th {\n",
              "        vertical-align: top;\n",
              "    }\n",
              "\n",
              "    .dataframe thead th {\n",
              "        text-align: right;\n",
              "    }\n",
              "</style>\n",
              "<table border=\"1\" class=\"dataframe\">\n",
              "  <thead>\n",
              "    <tr style=\"text-align: right;\">\n",
              "      <th></th>\n",
              "      <th>lambda</th>\n",
              "      <th>cost_value</th>\n",
              "      <th>accuracy</th>\n",
              "    </tr>\n",
              "  </thead>\n",
              "  <tbody>\n",
              "    <tr>\n",
              "      <th>0</th>\n",
              "      <td>0</td>\n",
              "      <td>0.2578</td>\n",
              "      <td>86.440678</td>\n",
              "    </tr>\n",
              "    <tr>\n",
              "      <th>1</th>\n",
              "      <td>1</td>\n",
              "      <td>0.5290</td>\n",
              "      <td>83.050847</td>\n",
              "    </tr>\n",
              "    <tr>\n",
              "      <th>2</th>\n",
              "      <td>2</td>\n",
              "      <td>0.5734</td>\n",
              "      <td>83.050847</td>\n",
              "    </tr>\n",
              "    <tr>\n",
              "      <th>3</th>\n",
              "      <td>3</td>\n",
              "      <td>0.5966</td>\n",
              "      <td>80.508475</td>\n",
              "    </tr>\n",
              "    <tr>\n",
              "      <th>4</th>\n",
              "      <td>4</td>\n",
              "      <td>0.6114</td>\n",
              "      <td>80.508475</td>\n",
              "    </tr>\n",
              "  </tbody>\n",
              "</table>\n",
              "</div>\n",
              "      <button class=\"colab-df-convert\" onclick=\"convertToInteractive('df-33174c32-c799-4ff0-bf6d-6c072bdbe832')\"\n",
              "              title=\"Convert this dataframe to an interactive table.\"\n",
              "              style=\"display:none;\">\n",
              "        \n",
              "  <svg xmlns=\"http://www.w3.org/2000/svg\" height=\"24px\"viewBox=\"0 0 24 24\"\n",
              "       width=\"24px\">\n",
              "    <path d=\"M0 0h24v24H0V0z\" fill=\"none\"/>\n",
              "    <path d=\"M18.56 5.44l.94 2.06.94-2.06 2.06-.94-2.06-.94-.94-2.06-.94 2.06-2.06.94zm-11 1L8.5 8.5l.94-2.06 2.06-.94-2.06-.94L8.5 2.5l-.94 2.06-2.06.94zm10 10l.94 2.06.94-2.06 2.06-.94-2.06-.94-.94-2.06-.94 2.06-2.06.94z\"/><path d=\"M17.41 7.96l-1.37-1.37c-.4-.4-.92-.59-1.43-.59-.52 0-1.04.2-1.43.59L10.3 9.45l-7.72 7.72c-.78.78-.78 2.05 0 2.83L4 21.41c.39.39.9.59 1.41.59.51 0 1.02-.2 1.41-.59l7.78-7.78 2.81-2.81c.8-.78.8-2.07 0-2.86zM5.41 20L4 18.59l7.72-7.72 1.47 1.35L5.41 20z\"/>\n",
              "  </svg>\n",
              "      </button>\n",
              "      \n",
              "  <style>\n",
              "    .colab-df-container {\n",
              "      display:flex;\n",
              "      flex-wrap:wrap;\n",
              "      gap: 12px;\n",
              "    }\n",
              "\n",
              "    .colab-df-convert {\n",
              "      background-color: #E8F0FE;\n",
              "      border: none;\n",
              "      border-radius: 50%;\n",
              "      cursor: pointer;\n",
              "      display: none;\n",
              "      fill: #1967D2;\n",
              "      height: 32px;\n",
              "      padding: 0 0 0 0;\n",
              "      width: 32px;\n",
              "    }\n",
              "\n",
              "    .colab-df-convert:hover {\n",
              "      background-color: #E2EBFA;\n",
              "      box-shadow: 0px 1px 2px rgba(60, 64, 67, 0.3), 0px 1px 3px 1px rgba(60, 64, 67, 0.15);\n",
              "      fill: #174EA6;\n",
              "    }\n",
              "\n",
              "    [theme=dark] .colab-df-convert {\n",
              "      background-color: #3B4455;\n",
              "      fill: #D2E3FC;\n",
              "    }\n",
              "\n",
              "    [theme=dark] .colab-df-convert:hover {\n",
              "      background-color: #434B5C;\n",
              "      box-shadow: 0px 1px 3px 1px rgba(0, 0, 0, 0.15);\n",
              "      filter: drop-shadow(0px 1px 2px rgba(0, 0, 0, 0.3));\n",
              "      fill: #FFFFFF;\n",
              "    }\n",
              "  </style>\n",
              "\n",
              "      <script>\n",
              "        const buttonEl =\n",
              "          document.querySelector('#df-33174c32-c799-4ff0-bf6d-6c072bdbe832 button.colab-df-convert');\n",
              "        buttonEl.style.display =\n",
              "          google.colab.kernel.accessAllowed ? 'block' : 'none';\n",
              "\n",
              "        async function convertToInteractive(key) {\n",
              "          const element = document.querySelector('#df-33174c32-c799-4ff0-bf6d-6c072bdbe832');\n",
              "          const dataTable =\n",
              "            await google.colab.kernel.invokeFunction('convertToInteractive',\n",
              "                                                     [key], {});\n",
              "          if (!dataTable) return;\n",
              "\n",
              "          const docLinkHtml = 'Like what you see? Visit the ' +\n",
              "            '<a target=\"_blank\" href=https://colab.research.google.com/notebooks/data_table.ipynb>data table notebook</a>'\n",
              "            + ' to learn more about interactive tables.';\n",
              "          element.innerHTML = '';\n",
              "          dataTable['output_type'] = 'display_data';\n",
              "          await google.colab.output.renderOutput(dataTable, element);\n",
              "          const docLink = document.createElement('div');\n",
              "          docLink.innerHTML = docLinkHtml;\n",
              "          element.appendChild(docLink);\n",
              "        }\n",
              "      </script>\n",
              "    </div>\n",
              "  </div>\n",
              "  "
            ],
            "text/plain": [
              "   lambda  cost_value   accuracy\n",
              "0       0      0.2578  86.440678\n",
              "1       1      0.5290  83.050847\n",
              "2       2      0.5734  83.050847\n",
              "3       3      0.5966  80.508475\n",
              "4       4      0.6114  80.508475"
            ]
          },
          "metadata": {},
          "execution_count": 16
        }
      ]
    },
    {
      "cell_type": "code",
      "metadata": {
        "colab": {
          "base_uri": "https://localhost:8080/",
          "height": 320
        },
        "id": "_WKryRDe3LXI",
        "outputId": "4774d4fa-b636-49ac-aa25-a39149c5ee13"
      },
      "source": [
        "# Plot a comparison among Lambda, Cost value vs Accuracy rate\n",
        "x1 = df1['lambda']\n",
        "x2 = df1['cost_value']\n",
        "y1 = df1['accuracy']\n",
        "fig, axes = plt.subplots (nrows = 1, ncols = 2, figsize = (12, 5))\n",
        "axes[0].plot(x1, y1)\n",
        "axes[1].plot(x2, y1)\n",
        "warnings.filterwarnings ('ignore')"
      ],
      "execution_count": null,
      "outputs": [
        {
          "output_type": "display_data",
          "data": {
            "image/png": "[encoded data removed]",
            "text/plain": [
              "<Figure size 864x360 with 2 Axes>"
            ]
          },
          "metadata": {
            "needs_background": "light"
          }
        }
      ]
    },
    {
      "cell_type": "markdown",
      "metadata": {
        "id": "QvbPkWD2kLoM"
      },
      "source": [
        " # 6. Plot Boundary Decision and Evaluate Lambda"
      ]
    },
    {
      "cell_type": "markdown",
      "metadata": {
        "id": "xBajZOfK5Unr"
      },
      "source": [
        "**λ = 1**"
      ]
    },
    {
      "cell_type": "code",
      "metadata": {
        "id": "NsQp8W6TDm7a"
      },
      "source": [
        "# Using advanced opimisation to find theta\n",
        "\n",
        "def find_optimal (X, y, lambda_):\n",
        "\n",
        "    initial_theta = np.zeros (n)\n",
        "\n",
        "    theta_opt, nfeval, rc = opt.fmin_tnc(func = cost_function, fprime = gradient_function, x0 = initial_theta, args = (X, y, lambda_))\n",
        "\n",
        "    cost_opt = cost_function (theta_opt, X, y, lambda_)\n",
        "    return theta_opt, cost_opt\n",
        "    "
      ],
      "execution_count": null,
      "outputs": []
    },
    {
      "cell_type": "code",
      "metadata": {
        "id": "ni1nQsSaS3Qr",
        "colab": {
          "base_uri": "https://localhost:8080/"
        },
        "outputId": "dc1e718b-09ae-4f32-99e6-ae6a26f17afa"
      },
      "source": [
        "theta_opt, cost_opt = find_optimal (x_poly, y, lambda_ = 1)\n",
        "print ('Cost at theta found by fminunc:', cost_opt.round (4))\n",
        "print ('theta:', theta_opt.round (4))"
      ],
      "execution_count": null,
      "outputs": [
        {
          "output_type": "stream",
          "name": "stdout",
          "text": [
            "Cost at theta found by fminunc: 0.529\n",
            "theta: [ 1.2727  0.6253  1.1811 -2.0199 -0.9174 -1.4317  0.1239 -0.3655 -0.3573\n",
            " -0.1752 -1.4582 -0.051  -0.6156 -0.2747 -1.1927 -0.2422 -0.206  -0.0447\n",
            " -0.2778 -0.2954 -0.4565 -1.0432  0.0278 -0.2924  0.0156 -0.3274 -0.1439\n",
            " -0.9247]\n"
          ]
        }
      ]
    },
    {
      "cell_type": "code",
      "metadata": {
        "id": "ySOEw03iDB5i"
      },
      "source": [
        "pf = PolynomialFeatures (degree= 6, include_bias= True)\n",
        "\n",
        "u = np.linspace (-1, 1.5, 50)\n",
        "v = np.linspace (-1, 1.5, 50)\n",
        "z = np.zeros ((len(u), len(v)))\n",
        "u = u.reshape (-1, 1)\n",
        "v = v.reshape (-1, 1)\n",
        "def find_z (theta):\n",
        "    for i in range (0, len(u)):\n",
        "        for j in range (0, len(v)):\n",
        "            a = np.array([u[i], v[j]]).reshape (1, -1)\n",
        "            z[i, j] = np.dot (pf.fit_transform(a), theta)\n",
        "    return z\n",
        "z = find_z (theta_opt)"
      ],
      "execution_count": null,
      "outputs": []
    },
    {
      "cell_type": "code",
      "metadata": {
        "colab": {
          "base_uri": "https://localhost:8080/",
          "height": 513
        },
        "id": "oFQNGnHlnESf",
        "outputId": "60e797d2-81cb-4e4a-f60a-260bd07a41ea"
      },
      "source": [
        "plt.figure (figsize = (10, 8))\n",
        "plt.scatter (df_accepted.iloc [:, 0], df_accepted.iloc [:, 1], c = 'g',marker = '+',  label = 'Accepted')\n",
        "plt.scatter (df_notaccepted.iloc [:, 0], df_notaccepted.iloc [:, 1], c = 'r',marker = '*', label = 'Not Accepted')\n",
        "\n",
        "xy, yx = np.meshgrid (u, v)\n",
        "CS = plt.contour (xy, yx, z.T, levels = [0], colors = 'b')\n",
        "plt.title ('Decision Boundary with λ = 1')\n",
        "plt.xlabel ('Microchip Test #1')\n",
        "plt.ylabel ('Microchip Test #2')\n",
        "plt.plot ([-.25], [1], marker = 'o', markersize = 5, c = 'y', label = 'Predicted value')\n",
        "plt.legend ()\n",
        "plt.show ()"
      ],
      "execution_count": null,
      "outputs": [
        {
          "output_type": "display_data",
          "data": {
            "image/png": "[encoded data removed]",
            "text/plain": [
              "<Figure size 720x576 with 1 Axes>"
            ]
          },
          "metadata": {
            "needs_background": "light"
          }
        }
      ]
    },
    {
      "cell_type": "code",
      "metadata": {
        "colab": {
          "base_uri": "https://localhost:8080/"
        },
        "id": "n5ZNP-aK8RDm",
        "outputId": "69acc517-d18a-4938-b74e-c8674905120a"
      },
      "source": [
        "# Measure accuracy\n",
        "p = predict (theta_opt, x_poly)\n",
        "print ('Accuracy:', (np.mean (p == y) *100).round(2), '%')"
      ],
      "execution_count": null,
      "outputs": [
        {
          "output_type": "stream",
          "name": "stdout",
          "text": [
            "Accuracy: 83.05 %\n"
          ]
        }
      ]
    },
    {
      "cell_type": "code",
      "metadata": {
        "colab": {
          "base_uri": "https://localhost:8080/"
        },
        "id": "ldUfnMryjyAy",
        "outputId": "6d27e746-2e9e-4fe2-b0b4-b1c5bfac6256"
      },
      "source": [
        "# For X = [-0.25, 1.5] -> y = 1 -> this seems to be not a correct decision \n",
        "pf = PolynomialFeatures (degree= 6, include_bias = True)\n",
        "X = np.array([-0.25, 1.5]).reshape (1, -1)\n",
        "X = pf.fit_transform (X)\n",
        "predict (theta_opt, X)"
      ],
      "execution_count": null,
      "outputs": [
        {
          "output_type": "execute_result",
          "data": {
            "text/plain": [
              "array([0])"
            ]
          },
          "metadata": {},
          "execution_count": 23
        }
      ]
    },
    {
      "cell_type": "markdown",
      "metadata": {
        "id": "JM6UlGZ9Cwpm"
      },
      "source": [
        "**λ = 0**"
      ]
    },
    {
      "cell_type": "code",
      "metadata": {
        "colab": {
          "base_uri": "https://localhost:8080/"
        },
        "id": "drpCwcO-mNfs",
        "outputId": "f31c350b-f3b4-48d5-f88b-982f5e3984b4"
      },
      "source": [
        "# Find optimal theta\n",
        "theta_opt, cost_opt = find_optimal (x_poly, y, lambda_ = 0)\n",
        "print ('Optimal cost =', cost_opt.round (4))\n",
        "print ('Optimal theta =', theta_opt)"
      ],
      "execution_count": null,
      "outputs": [
        {
          "output_type": "stream",
          "name": "stdout",
          "text": [
            "Optimal cost = 0.2578\n",
            "Optimal theta = [ 1.01179563e+01  1.14696654e+01  7.97370050e+00 -1.10582098e+02\n",
            " -6.83289436e+01 -2.73354137e+01 -1.06111752e+02 -1.09487924e+02\n",
            " -2.61221678e+01  3.69692048e-01  4.21375015e+02  4.39449431e+02\n",
            "  4.02339150e+02  1.81935281e+02  1.30596664e+01  2.10579293e+02\n",
            "  3.66247839e+02  3.42045669e+02  1.42743203e+02 -1.47939981e+01\n",
            " -5.05989206e+00 -5.16124541e+02 -7.72124744e+02 -9.37499400e+02\n",
            " -7.03287187e+02 -4.56075320e+02 -1.45274398e+02 -5.65836191e+00]\n"
          ]
        }
      ]
    },
    {
      "cell_type": "code",
      "metadata": {
        "id": "FDNKyasSFnAS"
      },
      "source": [
        "# Find z to plot contour\n",
        "z = find_z (theta_opt)\n"
      ],
      "execution_count": null,
      "outputs": []
    },
    {
      "cell_type": "code",
      "metadata": {
        "colab": {
          "base_uri": "https://localhost:8080/",
          "height": 513
        },
        "id": "u9E-ErfkF6Q3",
        "outputId": "dbaef8f2-7a02-491c-8863-3fddc5605350"
      },
      "source": [
        "plt.figure (figsize = (10, 8))\n",
        "plt.scatter (df_accepted.iloc [:, 0], df_accepted.iloc [:, 1], c = 'g',marker = '+',  label = 'Accepted')\n",
        "plt.scatter (df_notaccepted.iloc [:, 0], df_notaccepted.iloc [:, 1], c = 'r',marker = '*', label = 'Not Accepted')\n",
        "\n",
        "xy, yx = np.meshgrid (u, v)\n",
        "CS = plt.contour (xy, yx, z.T, levels = [0], colors = 'b')\n",
        "plt.title ('Overfitting Decision Boundary with λ = 0')\n",
        "plt.xlabel ('Microchip Test #1')\n",
        "plt.ylabel ('Microchip Test #2')\n",
        "plt.legend ()\n",
        "plt.show ()"
      ],
      "execution_count": null,
      "outputs": [
        {
          "output_type": "display_data",
          "data": {
            "image/png": "[encoded data removed]",
            "text/plain": [
              "<Figure size 720x576 with 1 Axes>"
            ]
          },
          "metadata": {
            "needs_background": "light"
          }
        }
      ]
    },
    {
      "cell_type": "code",
      "metadata": {
        "colab": {
          "base_uri": "https://localhost:8080/"
        },
        "id": "5GhBcn_LGD78",
        "outputId": "3d92fe52-ed46-4621-afc1-b336ad5d48e1"
      },
      "source": [
        "# Measure accuracy\n",
        "p = predict (theta_opt, x_poly)\n",
        "print ('Accuracy:', (np.mean (p == y) *100).round(2), '%')"
      ],
      "execution_count": null,
      "outputs": [
        {
          "output_type": "stream",
          "name": "stdout",
          "text": [
            "Accuracy: 86.44 %\n"
          ]
        }
      ]
    },
    {
      "cell_type": "markdown",
      "metadata": {
        "id": "M6zc1GbL3rgp"
      },
      "source": [
        "Note: With lambda = 0 (No regularisation applied), that seems to be overfitted with 86.44% accuracy rate."
      ]
    },
    {
      "cell_type": "markdown",
      "metadata": {
        "id": "J_yO7itp7J5o"
      },
      "source": [
        "**λ = 100**\n"
      ]
    },
    {
      "cell_type": "code",
      "metadata": {
        "colab": {
          "base_uri": "https://localhost:8080/"
        },
        "id": "BZ0ZHzDQ32Zk",
        "outputId": "36c0b6e8-a0e1-4a31-c958-70ad5ebe55bb"
      },
      "source": [
        "# Find optimal theta\n",
        "theta_opt, cost_opt = find_optimal (x_poly, y, lambda_ = 100)\n",
        "print ('Optimal cost =', cost_opt.round (4))\n",
        "print ('Optimal theta =', theta_opt)"
      ],
      "execution_count": null,
      "outputs": [
        {
          "output_type": "stream",
          "name": "stdout",
          "text": [
            "Optimal cost = 0.6865\n",
            "Optimal theta = [ 0.02187847 -0.0174817   0.00571065 -0.05516901 -0.01314874 -0.03859873\n",
            " -0.01846356 -0.00773219 -0.00892429 -0.02280461 -0.04343846 -0.00235623\n",
            " -0.01415612 -0.00349507 -0.04143595 -0.02100593 -0.00471917 -0.00359131\n",
            " -0.00632226 -0.0050244  -0.03197683 -0.03416334 -0.00107629 -0.00702615\n",
            " -0.00038507 -0.0079823  -0.00154779 -0.04108683]\n"
          ]
        }
      ]
    },
    {
      "cell_type": "code",
      "metadata": {
        "id": "DqNl6byz70vB"
      },
      "source": [
        "# Find z to plot contour\n",
        "z = find_z (theta_opt)"
      ],
      "execution_count": null,
      "outputs": []
    },
    {
      "cell_type": "code",
      "metadata": {
        "colab": {
          "base_uri": "https://localhost:8080/",
          "height": 513
        },
        "id": "pxIMiAaf74Ty",
        "outputId": "34933a5e-7a64-42e2-d507-aa24447fa96e"
      },
      "source": [
        "plt.figure (figsize = (10, 8))\n",
        "plt.scatter (df_accepted.iloc [:, 0], df_accepted.iloc [:, 1], c = 'g',marker = '+',  label = 'Accepted')\n",
        "plt.scatter (df_notaccepted.iloc [:, 0], df_notaccepted.iloc [:, 1], c = 'r',marker = '*', label = 'Not Accepted')\n",
        "\n",
        "xy, yx = np.meshgrid (u, v)\n",
        "CS = plt.contour (xy, yx, z.T, levels = [0], colors = 'b')\n",
        "plt.title ('Underfitting Decision Boundary with λ = 100')\n",
        "plt.xlabel ('Microchip Test #1')\n",
        "plt.ylabel ('Microchip Test #2')\n",
        "plt.legend ()\n",
        "plt.show ()"
      ],
      "execution_count": null,
      "outputs": [
        {
          "output_type": "display_data",
          "data": {
            "image/png": "[encoded data removed]",
            "text/plain": [
              "<Figure size 720x576 with 1 Axes>"
            ]
          },
          "metadata": {
            "needs_background": "light"
          }
        }
      ]
    },
    {
      "cell_type": "code",
      "metadata": {
        "colab": {
          "base_uri": "https://localhost:8080/"
        },
        "id": "laryEsuBGwPo",
        "outputId": "c776281d-8f61-4ef0-b72c-25d0b3a34a54"
      },
      "source": [
        "# Evaluate accuracy rate with lambda = 100\n",
        "p = predict (theta_opt, x_poly)\n",
        "print ('Accuracy:', (np.mean (p == y) *100).round(2), '%')\n"
      ],
      "execution_count": null,
      "outputs": [
        {
          "output_type": "stream",
          "name": "stdout",
          "text": [
            "Accuracy: 61.02 %\n"
          ]
        }
      ]
    },
    {
      "cell_type": "markdown",
      "source": [
        "Conclusion: The higher lambda is, the lower accuracy is!"
      ],
      "metadata": {
        "id": "HFWNTwMmaHtD"
      }
    },
    {
      "cell_type": "markdown",
      "metadata": {
        "id": "5PvVT-ES_Wxl"
      },
      "source": [
        "# Question: What level of lambda (λ) would bring Cost value to the lowest?"
      ]
    },
    {
      "cell_type": "markdown",
      "metadata": {
        "id": "CgbixvGTC8FF"
      },
      "source": [
        "Here, I will find lambda with the lowest cost value in range (0, 1, step = 0.001)"
      ]
    },
    {
      "cell_type": "code",
      "metadata": {
        "id": "zwjDFvnR7-p4"
      },
      "source": [
        "lambda_list = np.arange (0, 1, 0.001)\n",
        "costs = []\n",
        "accuracy = []\n",
        "initial_theta = np.zeros (n)\n",
        "\n",
        "for lambda_ in lambda_list:\n",
        "    theta, nfeval, rc = opt.fmin_tnc(func = cost_function, fprime = gradient_function, x0 = initial_theta, args = (x_poly, y, lambda_))\n",
        "    cost = cost_function (theta, x_poly, y, lambda_).round (4)\n",
        "    costs.append (cost)\n",
        "    p = predict (theta, x_poly)\n",
        "    acc = (np.mean (p == y) * 100)\n",
        "    accuracy.append (acc)\n",
        "\n",
        "df2 = pd.DataFrame (list(zip (lambda_list, costs, accuracy)), columns= ['lambda', 'cost_value', 'accuracy'], index = None )\n"
      ],
      "execution_count": null,
      "outputs": []
    },
    {
      "cell_type": "code",
      "metadata": {
        "colab": {
          "base_uri": "https://localhost:8080/",
          "height": 332
        },
        "id": "fvvtztBV-lLd",
        "outputId": "5f4ab8a6-032e-4035-cd0c-ac402cc0504f"
      },
      "source": [
        "# Filter to sort highest accuracy by lambda\n",
        "\n",
        "df2.sort_values (by= 'cost_value', ascending= False)"
      ],
      "execution_count": null,
      "outputs": [
        {
          "output_type": "execute_result",
          "data": {
            "text/html": [
              "\n",
              "  <div id=\"df-743f7e81-8bdc-4e81-b0b3-4c7d4d19e94c\">\n",
              "    <div class=\"colab-df-container\">\n",
              "      <div>\n",
              "<style scoped>\n",
              "    .dataframe tbody tr th:only-of-type {\n",
              "        vertical-align: middle;\n",
              "    }\n",
              "\n",
              "    .dataframe tbody tr th {\n",
              "        vertical-align: top;\n",
              "    }\n",
              "\n",
              "    .dataframe thead th {\n",
              "        text-align: right;\n",
              "    }\n",
              "</style>\n",
              "<table border=\"1\" class=\"dataframe\">\n",
              "  <thead>\n",
              "    <tr style=\"text-align: right;\">\n",
              "      <th></th>\n",
              "      <th>lambda</th>\n",
              "      <th>cost_value</th>\n",
              "      <th>accuracy</th>\n",
              "    </tr>\n",
              "  </thead>\n",
              "  <tbody>\n",
              "    <tr>\n",
              "      <th>999</th>\n",
              "      <td>0.999</td>\n",
              "      <td>0.5289</td>\n",
              "      <td>83.050847</td>\n",
              "    </tr>\n",
              "    <tr>\n",
              "      <th>998</th>\n",
              "      <td>0.998</td>\n",
              "      <td>0.5289</td>\n",
              "      <td>83.050847</td>\n",
              "    </tr>\n",
              "    <tr>\n",
              "      <th>997</th>\n",
              "      <td>0.997</td>\n",
              "      <td>0.5288</td>\n",
              "      <td>83.050847</td>\n",
              "    </tr>\n",
              "    <tr>\n",
              "      <th>996</th>\n",
              "      <td>0.996</td>\n",
              "      <td>0.5287</td>\n",
              "      <td>83.050847</td>\n",
              "    </tr>\n",
              "    <tr>\n",
              "      <th>995</th>\n",
              "      <td>0.995</td>\n",
              "      <td>0.5287</td>\n",
              "      <td>83.050847</td>\n",
              "    </tr>\n",
              "    <tr>\n",
              "      <th>...</th>\n",
              "      <td>...</td>\n",
              "      <td>...</td>\n",
              "      <td>...</td>\n",
              "    </tr>\n",
              "    <tr>\n",
              "      <th>4</th>\n",
              "      <td>0.004</td>\n",
              "      <td>0.3199</td>\n",
              "      <td>83.898305</td>\n",
              "    </tr>\n",
              "    <tr>\n",
              "      <th>3</th>\n",
              "      <td>0.003</td>\n",
              "      <td>0.3166</td>\n",
              "      <td>83.898305</td>\n",
              "    </tr>\n",
              "    <tr>\n",
              "      <th>2</th>\n",
              "      <td>0.002</td>\n",
              "      <td>0.3121</td>\n",
              "      <td>84.745763</td>\n",
              "    </tr>\n",
              "    <tr>\n",
              "      <th>1</th>\n",
              "      <td>0.001</td>\n",
              "      <td>0.3052</td>\n",
              "      <td>85.593220</td>\n",
              "    </tr>\n",
              "    <tr>\n",
              "      <th>0</th>\n",
              "      <td>0.000</td>\n",
              "      <td>0.2578</td>\n",
              "      <td>86.440678</td>\n",
              "    </tr>\n",
              "  </tbody>\n",
              "</table>\n",
              "<p>1000 rows × 3 columns</p>\n",
              "</div>\n",
              "      <button class=\"colab-df-convert\" onclick=\"convertToInteractive('df-743f7e81-8bdc-4e81-b0b3-4c7d4d19e94c')\"\n",
              "              title=\"Convert this dataframe to an interactive table.\"\n",
              "              style=\"display:none;\">\n",
              "        \n",
              "  <svg xmlns=\"http://www.w3.org/2000/svg\" height=\"24px\"viewBox=\"0 0 24 24\"\n",
              "       width=\"24px\">\n",
              "    <path d=\"M0 0h24v24H0V0z\" fill=\"none\"/>\n",
              "    <path d=\"M18.56 5.44l.94 2.06.94-2.06 2.06-.94-2.06-.94-.94-2.06-.94 2.06-2.06.94zm-11 1L8.5 8.5l.94-2.06 2.06-.94-2.06-.94L8.5 2.5l-.94 2.06-2.06.94zm10 10l.94 2.06.94-2.06 2.06-.94-2.06-.94-.94-2.06-.94 2.06-2.06.94z\"/><path d=\"M17.41 7.96l-1.37-1.37c-.4-.4-.92-.59-1.43-.59-.52 0-1.04.2-1.43.59L10.3 9.45l-7.72 7.72c-.78.78-.78 2.05 0 2.83L4 21.41c.39.39.9.59 1.41.59.51 0 1.02-.2 1.41-.59l7.78-7.78 2.81-2.81c.8-.78.8-2.07 0-2.86zM5.41 20L4 18.59l7.72-7.72 1.47 1.35L5.41 20z\"/>\n",
              "  </svg>\n",
              "      </button>\n",
              "      \n",
              "  <style>\n",
              "    .colab-df-container {\n",
              "      display:flex;\n",
              "      flex-wrap:wrap;\n",
              "      gap: 12px;\n",
              "    }\n",
              "\n",
              "    .colab-df-convert {\n",
              "      background-color: #E8F0FE;\n",
              "      border: none;\n",
              "      border-radius: 50%;\n",
              "      cursor: pointer;\n",
              "      display: none;\n",
              "      fill: #1967D2;\n",
              "      height: 32px;\n",
              "      padding: 0 0 0 0;\n",
              "      width: 32px;\n",
              "    }\n",
              "\n",
              "    .colab-df-convert:hover {\n",
              "      background-color: #E2EBFA;\n",
              "      box-shadow: 0px 1px 2px rgba(60, 64, 67, 0.3), 0px 1px 3px 1px rgba(60, 64, 67, 0.15);\n",
              "      fill: #174EA6;\n",
              "    }\n",
              "\n",
              "    [theme=dark] .colab-df-convert {\n",
              "      background-color: #3B4455;\n",
              "      fill: #D2E3FC;\n",
              "    }\n",
              "\n",
              "    [theme=dark] .colab-df-convert:hover {\n",
              "      background-color: #434B5C;\n",
              "      box-shadow: 0px 1px 3px 1px rgba(0, 0, 0, 0.15);\n",
              "      filter: drop-shadow(0px 1px 2px rgba(0, 0, 0, 0.3));\n",
              "      fill: #FFFFFF;\n",
              "    }\n",
              "  </style>\n",
              "\n",
              "      <script>\n",
              "        const buttonEl =\n",
              "          document.querySelector('#df-743f7e81-8bdc-4e81-b0b3-4c7d4d19e94c button.colab-df-convert');\n",
              "        buttonEl.style.display =\n",
              "          google.colab.kernel.accessAllowed ? 'block' : 'none';\n",
              "\n",
              "        async function convertToInteractive(key) {\n",
              "          const element = document.querySelector('#df-743f7e81-8bdc-4e81-b0b3-4c7d4d19e94c');\n",
              "          const dataTable =\n",
              "            await google.colab.kernel.invokeFunction('convertToInteractive',\n",
              "                                                     [key], {});\n",
              "          if (!dataTable) return;\n",
              "\n",
              "          const docLinkHtml = 'Like what you see? Visit the ' +\n",
              "            '<a target=\"_blank\" href=https://colab.research.google.com/notebooks/data_table.ipynb>data table notebook</a>'\n",
              "            + ' to learn more about interactive tables.';\n",
              "          element.innerHTML = '';\n",
              "          dataTable['output_type'] = 'display_data';\n",
              "          await google.colab.output.renderOutput(dataTable, element);\n",
              "          const docLink = document.createElement('div');\n",
              "          docLink.innerHTML = docLinkHtml;\n",
              "          element.appendChild(docLink);\n",
              "        }\n",
              "      </script>\n",
              "    </div>\n",
              "  </div>\n",
              "  "
            ],
            "text/plain": [
              "     lambda  cost_value   accuracy\n",
              "999   0.999      0.5289  83.050847\n",
              "998   0.998      0.5289  83.050847\n",
              "997   0.997      0.5288  83.050847\n",
              "996   0.996      0.5287  83.050847\n",
              "995   0.995      0.5287  83.050847\n",
              "..      ...         ...        ...\n",
              "4     0.004      0.3199  83.898305\n",
              "3     0.003      0.3166  83.898305\n",
              "2     0.002      0.3121  84.745763\n",
              "1     0.001      0.3052  85.593220\n",
              "0     0.000      0.2578  86.440678\n",
              "\n",
              "[1000 rows x 3 columns]"
            ]
          },
          "metadata": {},
          "execution_count": 33
        }
      ]
    },
    {
      "cell_type": "markdown",
      "metadata": {
        "id": "14XkvS1LDXiJ"
      },
      "source": [
        "Lambda = 0.999 are good ones."
      ]
    },
    {
      "cell_type": "code",
      "metadata": {
        "id": "X0eWKunJ9eoB",
        "colab": {
          "base_uri": "https://localhost:8080/"
        },
        "outputId": "b29e93d9-ade8-4948-af92-d5f8e1ab0b5b"
      },
      "source": [
        "# Find optimal theta corresponding with lambda = 0.066\n",
        "theta_opt, cost_opt = find_optimal (x_poly, y, lambda_ = 0.999)\n",
        "print ('Optimal cost =', cost_opt.round (4))\n",
        "print ('Optimal theta =', theta_opt)"
      ],
      "execution_count": null,
      "outputs": [
        {
          "output_type": "stream",
          "name": "stdout",
          "text": [
            "Optimal cost = 0.5289\n",
            "Optimal theta = [ 1.27329079  0.6257647   1.18178173 -2.02083742 -0.91813956 -1.43254118\n",
            "  0.12411793 -0.36578392 -0.3574636  -0.17518137 -1.45886952 -0.05097936\n",
            " -0.61594663 -0.27492855 -1.19330226 -0.24224451 -0.20615821 -0.0446338\n",
            " -0.27797097 -0.29561647 -0.4565308  -1.04369583  0.02784398 -0.29260271\n",
            "  0.01558761 -0.32761746 -0.14403496 -0.92500753]\n"
          ]
        }
      ]
    },
    {
      "cell_type": "code",
      "metadata": {
        "id": "GIv4AyNLDrRg"
      },
      "source": [
        "# Find z to plot contour\n",
        "z = find_z (theta_opt)"
      ],
      "execution_count": null,
      "outputs": []
    },
    {
      "cell_type": "code",
      "metadata": {
        "colab": {
          "base_uri": "https://localhost:8080/",
          "height": 513
        },
        "id": "l6jianuwDwBo",
        "outputId": "c87dc248-06f2-4c1d-abc7-1f6490757dd0"
      },
      "source": [
        "# Plot graph with lambda = 0.066\n",
        "plt.figure (figsize = (10, 8))\n",
        "plt.scatter (df_accepted.iloc [:, 0], df_accepted.iloc [:, 1], c = 'g',marker = '+',  label = 'Accepted')\n",
        "plt.scatter (df_notaccepted.iloc [:, 0], df_notaccepted.iloc [:, 1], c = 'r',marker = '*', label = 'Not Accepted')\n",
        "\n",
        "xy, yx = np.meshgrid (u, v)\n",
        "CS = plt.contour (xy, yx, z.T, levels = [0], colors = 'b')\n",
        "plt.title ('Decision boundary with λ = 0.999')\n",
        "plt.xlabel ('Microchip Test #1')\n",
        "plt.ylabel ('Microchip Test #2')\n",
        "plt.legend ()\n",
        "plt.show ()"
      ],
      "execution_count": null,
      "outputs": [
        {
          "output_type": "display_data",
          "data": {
            "image/png": "[encoded data removed]",
            "text/plain": [
              "<Figure size 720x576 with 1 Axes>"
            ]
          },
          "metadata": {
            "needs_background": "light"
          }
        }
      ]
    },
    {
      "cell_type": "code",
      "metadata": {
        "colab": {
          "base_uri": "https://localhost:8080/"
        },
        "id": "HBi8hn1kD6YE",
        "outputId": "784abb4c-5009-437d-a009-ab4cf93707b6"
      },
      "source": [
        "pf = PolynomialFeatures (degree= 6, include_bias = True)\n",
        "X = np.array([-0.25, 1]).reshape (1, -1)\n",
        "\n",
        "# Adding polynomial features\n",
        "X = pf.fit_transform (X)\n",
        "predict (theta_opt, X)"
      ],
      "execution_count": null,
      "outputs": [
        {
          "output_type": "execute_result",
          "data": {
            "text/plain": [
              "array([0])"
            ]
          },
          "metadata": {},
          "execution_count": 42
        }
      ]
    },
    {
      "cell_type": "code",
      "metadata": {
        "id": "QluLIqfGJsng"
      },
      "source": [
        ""
      ],
      "execution_count": null,
      "outputs": []
    }
  ]
}