{
  "nbformat": 4,
  "nbformat_minor": 0,
  "metadata": {
    "colab": {
      "name": "Admission Classification using Mean Squared Error LR.ipynb",
      "provenance": [],
      "collapsed_sections": []
    },
    "kernelspec": {
      "name": "python3",
      "display_name": "Python 3"
    },
    "language_info": {
      "name": "python"
    }
  },
  "cells": [
    {
      "cell_type": "code",
      "metadata": {
        "id": "vsTPDnLf1NZU"
      },
      "source": [
        "import math \n",
        "import numpy as np\n",
        "import pandas as pd\n",
        "import matplotlib.pyplot as plt\n",
        "import warnings\n",
        "import scipy.optimize as opt"
      ],
      "execution_count": null,
      "outputs": []
    },
    {
      "cell_type": "code",
      "metadata": {
        "id": "z5pYxVzR2XiK",
        "colab": {
          "base_uri": "https://localhost:8080/",
          "height": 206
        },
        "outputId": "fa531ad3-7a4d-4a59-dfd4-d5bf6920bf8c"
      },
      "source": [
        "df = pd.read_csv ('https://raw.githubusercontent.com/satishgunjal/datasets/master/admission_basedon_exam_scores.csv')\n",
        "df.head ()"
      ],
      "execution_count": null,
      "outputs": [
        {
          "output_type": "execute_result",
          "data": {
            "text/html": [
              "<div>\n",
              "<style scoped>\n",
              "    .dataframe tbody tr th:only-of-type {\n",
              "        vertical-align: middle;\n",
              "    }\n",
              "\n",
              "    .dataframe tbody tr th {\n",
              "        vertical-align: top;\n",
              "    }\n",
              "\n",
              "    .dataframe thead th {\n",
              "        text-align: right;\n",
              "    }\n",
              "</style>\n",
              "<table border=\"1\" class=\"dataframe\">\n",
              "  <thead>\n",
              "    <tr style=\"text-align: right;\">\n",
              "      <th></th>\n",
              "      <th>Exam 1 marks</th>\n",
              "      <th>Exam 2 marks</th>\n",
              "      <th>Admission status</th>\n",
              "    </tr>\n",
              "  </thead>\n",
              "  <tbody>\n",
              "    <tr>\n",
              "      <th>0</th>\n",
              "      <td>34.623660</td>\n",
              "      <td>78.024693</td>\n",
              "      <td>0</td>\n",
              "    </tr>\n",
              "    <tr>\n",
              "      <th>1</th>\n",
              "      <td>30.286711</td>\n",
              "      <td>43.894998</td>\n",
              "      <td>0</td>\n",
              "    </tr>\n",
              "    <tr>\n",
              "      <th>2</th>\n",
              "      <td>35.847409</td>\n",
              "      <td>72.902198</td>\n",
              "      <td>0</td>\n",
              "    </tr>\n",
              "    <tr>\n",
              "      <th>3</th>\n",
              "      <td>60.182599</td>\n",
              "      <td>86.308552</td>\n",
              "      <td>1</td>\n",
              "    </tr>\n",
              "    <tr>\n",
              "      <th>4</th>\n",
              "      <td>79.032736</td>\n",
              "      <td>75.344376</td>\n",
              "      <td>1</td>\n",
              "    </tr>\n",
              "  </tbody>\n",
              "</table>\n",
              "</div>"
            ],
            "text/plain": [
              "   Exam 1 marks  Exam 2 marks  Admission status\n",
              "0     34.623660     78.024693                 0\n",
              "1     30.286711     43.894998                 0\n",
              "2     35.847409     72.902198                 0\n",
              "3     60.182599     86.308552                 1\n",
              "4     79.032736     75.344376                 1"
            ]
          },
          "metadata": {},
          "execution_count": 80
        }
      ]
    },
    {
      "cell_type": "code",
      "metadata": {
        "colab": {
          "base_uri": "https://localhost:8080/"
        },
        "id": "QEsF6onV3HiF",
        "outputId": "c129c620-2a6e-48f5-eb6e-428e1179b69b"
      },
      "source": [
        "df.columns = ['exam_1', 'exam_2', 'status']\n",
        "m, n = df.shape \n",
        "m, n"
      ],
      "execution_count": null,
      "outputs": [
        {
          "output_type": "execute_result",
          "data": {
            "text/plain": [
              "(100, 3)"
            ]
          },
          "metadata": {},
          "execution_count": 81
        }
      ]
    },
    {
      "cell_type": "code",
      "metadata": {
        "colab": {
          "base_uri": "https://localhost:8080/"
        },
        "id": "AkRWl6Xg3WmH",
        "outputId": "c2794270-4120-4e29-9ee1-9000ea4c0b09"
      },
      "source": [
        "df_admitted = df[df['status'] == 1]\n",
        "df_admitted.shape"
      ],
      "execution_count": null,
      "outputs": [
        {
          "output_type": "execute_result",
          "data": {
            "text/plain": [
              "(60, 3)"
            ]
          },
          "metadata": {},
          "execution_count": 82
        }
      ]
    },
    {
      "cell_type": "code",
      "metadata": {
        "colab": {
          "base_uri": "https://localhost:8080/"
        },
        "id": "dMY2ybvU4B3t",
        "outputId": "424cbbdd-f82c-4a35-ae57-4cd7a0f85f06"
      },
      "source": [
        "df_notadmitted = df[df['status'] == 0]\n",
        "df_notadmitted.shape"
      ],
      "execution_count": null,
      "outputs": [
        {
          "output_type": "execute_result",
          "data": {
            "text/plain": [
              "(40, 3)"
            ]
          },
          "metadata": {},
          "execution_count": 83
        }
      ]
    },
    {
      "cell_type": "code",
      "metadata": {
        "colab": {
          "base_uri": "https://localhost:8080/"
        },
        "id": "LwiTKOuT4JHT",
        "outputId": "1364cd56-834e-473a-fa43-21b22c0680df"
      },
      "source": [
        "df.info ()"
      ],
      "execution_count": null,
      "outputs": [
        {
          "output_type": "stream",
          "name": "stdout",
          "text": [
            "<class 'pandas.core.frame.DataFrame'>\n",
            "RangeIndex: 100 entries, 0 to 99\n",
            "Data columns (total 3 columns):\n",
            " #   Column  Non-Null Count  Dtype  \n",
            "---  ------  --------------  -----  \n",
            " 0   exam_1  100 non-null    float64\n",
            " 1   exam_2  100 non-null    float64\n",
            " 2   status  100 non-null    int64  \n",
            "dtypes: float64(2), int64(1)\n",
            "memory usage: 2.5 KB\n"
          ]
        }
      ]
    },
    {
      "cell_type": "markdown",
      "metadata": {
        "id": "lb1O4KqwDfNE"
      },
      "source": [
        "*Visualise data*"
      ]
    },
    {
      "cell_type": "code",
      "metadata": {
        "colab": {
          "base_uri": "https://localhost:8080/",
          "height": 513
        },
        "id": "ojFwoayj4Kni",
        "outputId": "b73067c4-f127-4170-d4a5-0aa0fc451160"
      },
      "source": [
        "plt.figure (figsize = (10, 8))\n",
        "plt.scatter (df_admitted ['exam_1'], df_admitted ['exam_2'], c = 'g', marker = '+', label = 'Admitted')\n",
        "plt.scatter (df_notadmitted ['exam_1'], df_notadmitted ['exam_2'], c = 'r', marker = 'x', label = 'Not Admitted')\n",
        "plt.xlabel ('Exam 1 marks')\n",
        "plt.ylabel ('Exam 2 marks')\n",
        "plt.legend ()\n",
        "plt.title ('Admitted vs Not Admitted Applicants')\n",
        "warnings.filterwarnings ('ignore')"
      ],
      "execution_count": null,
      "outputs": [
        {
          "output_type": "display_data",
          "data": {
            "image/png": "[encoded data removed]",
            "text/plain": [
              "<Figure size 720x576 with 1 Axes>"
            ]
          },
          "metadata": {
            "needs_background": "light"
          }
        }
      ]
    },
    {
      "cell_type": "code",
      "metadata": {
        "id": "r2KVeKGG5C1I"
      },
      "source": [
        "# Input X values from Pandas dataframe\n",
        "X = df.iloc [:, 0:2]\n",
        "# Add bias column '1 into X\n",
        "X = np.hstack ((np.ones ((m, 1)), X))\n",
        "y = df.iloc [:, -1]"
      ],
      "execution_count": null,
      "outputs": []
    },
    {
      "cell_type": "markdown",
      "metadata": {
        "id": "6vsbGgk15wo5"
      },
      "source": [
        "*Linear Hypothesis*"
      ]
    },
    {
      "cell_type": "code",
      "metadata": {
        "id": "-0A0axgS5oEe"
      },
      "source": [
        "# Input functions\n",
        "def sigmoid (z):\n",
        "    # Sigmoid function\n",
        "    g = 1/ (1 + np.exp(-z))\n",
        "    return g\n",
        "\n",
        "def cost_function (theta, X, y):\n",
        "    # Cost function J\n",
        "    m, n = X.shape  \n",
        "    x_dot_theta = X.dot (theta)\n",
        "    J = 1.0 / m * np.dot((y.T - x_dot_theta.T),(y.T - x_dot_theta.T).T)\n",
        "    return J\n",
        "\n",
        "def gradient_function (theta, X, y):\n",
        "    # Compute gradient descent\n",
        "    m, n = X.shape\n",
        "    x_dot_theta = X.dot (theta)\n",
        "    grad = (np.dot(X.T, (x_dot_theta - y))) / (2*m)\n",
        "    return grad\n",
        "\n"
      ],
      "execution_count": null,
      "outputs": []
    },
    {
      "cell_type": "code",
      "metadata": {
        "colab": {
          "base_uri": "https://localhost:8080/"
        },
        "id": "ssXcchWw7Cea",
        "outputId": "23b168b8-f834-4bf2-b892-b060e76fd8fb"
      },
      "source": [
        "theta = np.zeros (n)\n",
        "cost = cost_function (theta, X, y)\n",
        "grad = gradient_function (theta, X, y)\n",
        "print ('Cost at initial theta: Cost =', cost)\n",
        "print ('Gradient descent at initial theta: Gradient =', grad)\n",
        "\n",
        "    "
      ],
      "execution_count": null,
      "outputs": [
        {
          "output_type": "stream",
          "name": "stdout",
          "text": [
            "Cost at initial theta: Cost = 0.6\n",
            "Gradient descent at initial theta: Gradient = [ -0.3        -22.41567681 -22.18692062]\n"
          ]
        }
      ]
    },
    {
      "cell_type": "code",
      "metadata": {
        "colab": {
          "base_uri": "https://localhost:8080/"
        },
        "id": "5zy4Bcm08Exk",
        "outputId": "5eb48e9d-c7e8-4aa4-a6fd-b7ff39719746"
      },
      "source": [
        "# Implement Advanced Optimisation to compute optimal theta\n",
        "theta, nfeval, rc = opt.fmin_tnc(func = cost_function, fprime = gradient_function, x0 = theta, args = (X, y))\n",
        "\n",
        "cost = cost_function (theta, X, y)\n",
        "print ('Cost at theta found by fminunc: Cost =', cost)\n",
        "print ('theta =', theta)"
      ],
      "execution_count": null,
      "outputs": [
        {
          "output_type": "stream",
          "name": "stdout",
          "text": [
            "Cost at theta found by fminunc: Cost = 0.09449393124689869\n",
            "theta = [-1.29749682  0.01484087  0.01394217]\n"
          ]
        }
      ]
    },
    {
      "cell_type": "markdown",
      "metadata": {
        "id": "EQUTrB9bDrFy"
      },
      "source": [
        "*Visualise data with Linear hypothesis*"
      ]
    },
    {
      "cell_type": "code",
      "metadata": {
        "colab": {
          "base_uri": "https://localhost:8080/",
          "height": 513
        },
        "id": "LLI2i9Tn849l",
        "outputId": "9bd8373c-bad1-4f5e-b196-396218e21c1a"
      },
      "source": [
        "# PLot data\n",
        "plt.figure (figsize = (10, 8))\n",
        "plt.scatter (df_admitted ['exam_1'], df_admitted ['exam_2'], c = 'g', marker = '+', label = 'Admitted')\n",
        "plt.scatter (df_notadmitted ['exam_1'], df_notadmitted ['exam_2'], c = 'r', marker = 'x', label = 'Not Admitted')\n",
        "plt.xlabel ('Exam 1 marks')\n",
        "plt.ylabel ('Exam 2 marks')\n",
        "\n",
        "#Plot hypothesis\n",
        "x_values = [30, 60]\n",
        "y_values = -(theta[0] + np.dot(theta[1], x_values))/ theta[2]\n",
        "\n",
        "plt.plot (x_values, y_values, c = 'b', label = 'Decision Boundary')\n",
        "plt.legend ()\n",
        "plt.title ('MSE Linear hypothesis')\n",
        "warnings.filterwarnings ('ignore')\n"
      ],
      "execution_count": null,
      "outputs": [
        {
          "output_type": "display_data",
          "data": {
            "image/png": "[encoded data removed]",
            "text/plain": [
              "<Figure size 720x576 with 1 Axes>"
            ]
          },
          "metadata": {
            "needs_background": "light"
          }
        }
      ]
    },
    {
      "cell_type": "code",
      "metadata": {
        "colab": {
          "base_uri": "https://localhost:8080/"
        },
        "id": "7KBIY6LZEXdv",
        "outputId": "0beb9dcf-e216-4f91-ea8e-31b14968d255"
      },
      "source": [
        "def predict (theta, X):\n",
        "    p = sigmoid (X.dot(theta)) >= 0.5\n",
        "    return p.astype (int)\n",
        "\n",
        "p = predict (theta, X)\n",
        "print ('Accuracy:', np.mean (p == y)* 100, '%')"
      ],
      "execution_count": null,
      "outputs": [
        {
          "output_type": "stream",
          "name": "stdout",
          "text": [
            "Accuracy: 65.0 %\n"
          ]
        }
      ]
    },
    {
      "cell_type": "markdown",
      "metadata": {
        "id": "h1AITJypJI5V"
      },
      "source": [
        "*Non-linear hypothesis*"
      ]
    },
    {
      "cell_type": "code",
      "metadata": {
        "colab": {
          "base_uri": "https://localhost:8080/",
          "height": 206
        },
        "id": "42NsSSLeAYFU",
        "outputId": "d8ba30ea-3d0c-4e21-aea6-168a653e80f7"
      },
      "source": [
        "df_mapping = df\n",
        "df_mapping ['exam_1'] = round (df_mapping['exam_1'], 2)\n",
        "df_mapping ['exam_2'] = round (df_mapping['exam_2'], 2)\n",
        "df_mapping ['exam_1**2'] = round (df_mapping['exam_1']**2, 2)\n",
        "df_mapping ['exam_2**2'] = round (df_mapping['exam_2']**2, 2)\n",
        "df_mapping ['exam_1**exam_2'] = round (df_mapping['exam_1']*df_mapping['exam_2'], 2)\n",
        "df_mapping = df_mapping [['exam_1', 'exam_2', 'exam_1**2', 'exam_2**2', 'exam_1**exam_2', 'status']]\n",
        "\n",
        "df_mapping.head ()"
      ],
      "execution_count": null,
      "outputs": [
        {
          "output_type": "execute_result",
          "data": {
            "text/html": [
              "<div>\n",
              "<style scoped>\n",
              "    .dataframe tbody tr th:only-of-type {\n",
              "        vertical-align: middle;\n",
              "    }\n",
              "\n",
              "    .dataframe tbody tr th {\n",
              "        vertical-align: top;\n",
              "    }\n",
              "\n",
              "    .dataframe thead th {\n",
              "        text-align: right;\n",
              "    }\n",
              "</style>\n",
              "<table border=\"1\" class=\"dataframe\">\n",
              "  <thead>\n",
              "    <tr style=\"text-align: right;\">\n",
              "      <th></th>\n",
              "      <th>exam_1</th>\n",
              "      <th>exam_2</th>\n",
              "      <th>exam_1**2</th>\n",
              "      <th>exam_2**2</th>\n",
              "      <th>exam_1**exam_2</th>\n",
              "      <th>status</th>\n",
              "    </tr>\n",
              "  </thead>\n",
              "  <tbody>\n",
              "    <tr>\n",
              "      <th>0</th>\n",
              "      <td>34.62</td>\n",
              "      <td>78.02</td>\n",
              "      <td>1198.54</td>\n",
              "      <td>6087.12</td>\n",
              "      <td>2701.05</td>\n",
              "      <td>0</td>\n",
              "    </tr>\n",
              "    <tr>\n",
              "      <th>1</th>\n",
              "      <td>30.29</td>\n",
              "      <td>43.89</td>\n",
              "      <td>917.48</td>\n",
              "      <td>1926.33</td>\n",
              "      <td>1329.43</td>\n",
              "      <td>0</td>\n",
              "    </tr>\n",
              "    <tr>\n",
              "      <th>2</th>\n",
              "      <td>35.85</td>\n",
              "      <td>72.90</td>\n",
              "      <td>1285.22</td>\n",
              "      <td>5314.41</td>\n",
              "      <td>2613.46</td>\n",
              "      <td>0</td>\n",
              "    </tr>\n",
              "    <tr>\n",
              "      <th>3</th>\n",
              "      <td>60.18</td>\n",
              "      <td>86.31</td>\n",
              "      <td>3621.63</td>\n",
              "      <td>7449.42</td>\n",
              "      <td>5194.14</td>\n",
              "      <td>1</td>\n",
              "    </tr>\n",
              "    <tr>\n",
              "      <th>4</th>\n",
              "      <td>79.03</td>\n",
              "      <td>75.34</td>\n",
              "      <td>6245.74</td>\n",
              "      <td>5676.12</td>\n",
              "      <td>5954.12</td>\n",
              "      <td>1</td>\n",
              "    </tr>\n",
              "  </tbody>\n",
              "</table>\n",
              "</div>"
            ],
            "text/plain": [
              "   exam_1  exam_2  exam_1**2  exam_2**2  exam_1**exam_2  status\n",
              "0   34.62   78.02    1198.54    6087.12         2701.05       0\n",
              "1   30.29   43.89     917.48    1926.33         1329.43       0\n",
              "2   35.85   72.90    1285.22    5314.41         2613.46       0\n",
              "3   60.18   86.31    3621.63    7449.42         5194.14       1\n",
              "4   79.03   75.34    6245.74    5676.12         5954.12       1"
            ]
          },
          "metadata": {},
          "execution_count": 92
        }
      ]
    },
    {
      "cell_type": "code",
      "metadata": {
        "colab": {
          "base_uri": "https://localhost:8080/"
        },
        "id": "smY7_5nTJXNd",
        "outputId": "32fd6cf2-7291-49f6-b329-c80c3b574105"
      },
      "source": [
        "m, n = df.shape\n",
        "print ('Number of training examples: m =', m)\n",
        "print ('Number of features: n =', n - 1)"
      ],
      "execution_count": null,
      "outputs": [
        {
          "output_type": "stream",
          "name": "stdout",
          "text": [
            "Number of training examples: m = 100\n",
            "Number of features: n = 5\n"
          ]
        }
      ]
    },
    {
      "cell_type": "code",
      "metadata": {
        "colab": {
          "base_uri": "https://localhost:8080/"
        },
        "id": "eCA5diWMJaeD",
        "outputId": "3940dd96-8f7d-472d-c96c-b67979b7ec02"
      },
      "source": [
        "# Compute cost function\n",
        "X = df_mapping.iloc [:, 0:5]\n",
        "# Add bias '1' into X\n",
        "X = np.hstack((np.ones((m, 1)), X))\n",
        "print ('Dimension of features matrix X =', X.shape, '\\n')\n",
        "\n",
        "y = df_mapping.iloc[:, -1]\n",
        "for i in range (5):\n",
        "  print ('x =', X[i, ], ',y =', y[i])"
      ],
      "execution_count": null,
      "outputs": [
        {
          "output_type": "stream",
          "name": "stdout",
          "text": [
            "Dimension of features matrix X = (100, 6) \n",
            "\n",
            "x = [1.00000e+00 3.46200e+01 7.80200e+01 1.19854e+03 6.08712e+03 2.70105e+03] ,y = 0\n",
            "x = [1.00000e+00 3.02900e+01 4.38900e+01 9.17480e+02 1.92633e+03 1.32943e+03] ,y = 0\n",
            "x = [1.00000e+00 3.58500e+01 7.29000e+01 1.28522e+03 5.31441e+03 2.61346e+03] ,y = 0\n",
            "x = [1.00000e+00 6.01800e+01 8.63100e+01 3.62163e+03 7.44942e+03 5.19414e+03] ,y = 1\n",
            "x = [1.00000e+00 7.90300e+01 7.53400e+01 6.24574e+03 5.67612e+03 5.95412e+03] ,y = 1\n"
          ]
        }
      ]
    },
    {
      "cell_type": "code",
      "metadata": {
        "colab": {
          "base_uri": "https://localhost:8080/"
        },
        "id": "F3rL4DTdJcyO",
        "outputId": "1b8493d0-b548-4928-d7aa-998b96bc7691"
      },
      "source": [
        "theta = np.zeros (n)\n",
        "theta"
      ],
      "execution_count": null,
      "outputs": [
        {
          "output_type": "execute_result",
          "data": {
            "text/plain": [
              "array([0., 0., 0., 0., 0., 0.])"
            ]
          },
          "metadata": {},
          "execution_count": 95
        }
      ]
    },
    {
      "cell_type": "code",
      "metadata": {
        "colab": {
          "base_uri": "https://localhost:8080/"
        },
        "id": "584W4l4QJghS",
        "outputId": "235c0cf9-df3e-428b-8fe9-f693beebdfe0"
      },
      "source": [
        "cost = cost_function (theta, X, y)\n",
        "print ('Cost at initial theta(zeros):', cost)\n",
        "grad = gradient_function (theta, X, y)\n",
        "print (\"Gradient at inital theta(zeros):\", grad)"
      ],
      "execution_count": null,
      "outputs": [
        {
          "output_type": "stream",
          "name": "stdout",
          "text": [
            "Cost at initial theta(zeros): 0.6\n",
            "Gradient at inital theta(zeros): [-3.00000000e-01 -2.24157000e+01 -2.21868500e+01 -1.74047865e+03\n",
            " -1.71649980e+03 -1.63401560e+03]\n"
          ]
        }
      ]
    },
    {
      "cell_type": "code",
      "metadata": {
        "colab": {
          "base_uri": "https://localhost:8080/"
        },
        "id": "ZDNpMtDqJiKM",
        "outputId": "a10dfab7-e083-46b4-952f-d055f1bdcce5"
      },
      "source": [
        "theta, nfeval, rc = opt.fmin_tnc(func = cost_function, fprime = gradient_function, x0 = theta, args = (X, y))\n",
        "\n",
        "cost = cost_function (theta, X, y)\n",
        "print ('Cost at theta found by fminunc:', cost)\n",
        "print ('theta:', theta)"
      ],
      "execution_count": null,
      "outputs": [
        {
          "output_type": "stream",
          "name": "stdout",
          "text": [
            "Cost at theta found by fminunc: 0.08097562824178688\n",
            "theta: [-3.37218832e+00  4.59528598e-02  5.15112347e-02 -2.29804020e-04\n",
            " -2.73544067e-04 -1.98144510e-05]\n"
          ]
        }
      ]
    },
    {
      "cell_type": "code",
      "metadata": {
        "id": "Q70tr4NEJnrO"
      },
      "source": [
        "def quadratic (a, b, c):\n",
        "    # Just return x > 0\n",
        "    delta = b**2 - 4*a*c\n",
        "    if (delta >= 0):\n",
        "        x1 = ((-b + math.sqrt(delta)) / (2*a))\n",
        "        x2 = ((-b - math.sqrt(delta)) / (2*a))\n",
        "    if (x1 > 0):\n",
        "        return (x1)\n",
        "    elif (x2 > 0):\n",
        "        return (x2)"
      ],
      "execution_count": null,
      "outputs": []
    },
    {
      "cell_type": "code",
      "metadata": {
        "colab": {
          "base_uri": "https://localhost:8080/"
        },
        "id": "oCarLP8xJySs",
        "outputId": "9af500c1-454e-4811-919c-5ea10685f81f"
      },
      "source": [
        "x_values = np.concatenate ((np.linspace (30, 98, 69),[max(X[:,1])]))\n",
        "x_values"
      ],
      "execution_count": null,
      "outputs": [
        {
          "output_type": "execute_result",
          "data": {
            "text/plain": [
              "array([30.  , 31.  , 32.  , 33.  , 34.  , 35.  , 36.  , 37.  , 38.  ,\n",
              "       39.  , 40.  , 41.  , 42.  , 43.  , 44.  , 45.  , 46.  , 47.  ,\n",
              "       48.  , 49.  , 50.  , 51.  , 52.  , 53.  , 54.  , 55.  , 56.  ,\n",
              "       57.  , 58.  , 59.  , 60.  , 61.  , 62.  , 63.  , 64.  , 65.  ,\n",
              "       66.  , 67.  , 68.  , 69.  , 70.  , 71.  , 72.  , 73.  , 74.  ,\n",
              "       75.  , 76.  , 77.  , 78.  , 79.  , 80.  , 81.  , 82.  , 83.  ,\n",
              "       84.  , 85.  , 86.  , 87.  , 88.  , 89.  , 90.  , 91.  , 92.  ,\n",
              "       93.  , 94.  , 95.  , 96.  , 97.  , 98.  , 99.83])"
            ]
          },
          "metadata": {},
          "execution_count": 99
        }
      ]
    },
    {
      "cell_type": "code",
      "metadata": {
        "colab": {
          "base_uri": "https://localhost:8080/"
        },
        "id": "RkIC4lZ2J0rf",
        "outputId": "03a540ba-b259-47ab-da68-9494572137e5"
      },
      "source": [
        "y_values = []\n",
        "for x_value in x_values:\n",
        "    a = theta[4]\n",
        "    b = np.dot (theta[5], x_value) + theta[2]\n",
        "    c = theta[0] + np.dot(theta[1], x_value) + np.dot(theta[3], x_value**2)\n",
        "    y_value = quadratic (a, b, c)\n",
        "    y_values.append (y_value)\n",
        "y_values = np.asarray (y_values)\n",
        "y_values"
      ],
      "execution_count": null,
      "outputs": [
        {
          "output_type": "execute_result",
          "data": {
            "text/plain": [
              "array([68.21613151, 66.05741075, 64.08292423, 62.25775941, 60.55714726,\n",
              "       58.96275074, 57.46053778, 56.03948255, 54.69073168, 53.40704667,\n",
              "       52.18241823, 51.01179188, 49.89086773, 48.81595149, 47.78384136,\n",
              "       46.79174081, 45.83719045, 44.91801392, 44.0322746 , 43.17824048,\n",
              "       42.3543555 , 41.5592158 , 40.79155009, 40.05020311, 39.33412171,\n",
              "       38.64234306, 37.97398454, 37.32823511, 36.70434784, 36.10163343,\n",
              "       35.51945458, 34.95722109, 34.41438553, 33.89043943, 33.38490996,\n",
              "       32.89735691, 32.42737008, 31.97456692, 31.53859043, 31.11910724,\n",
              "       30.715806  , 30.32839577, 29.95660473, 29.6001789 , 29.25888104,\n",
              "       28.93248963, 28.620798  , 28.32361343, 28.04075648, 27.77206026,\n",
              "       27.51736981, 27.2765416 , 27.04944293, 26.83595158, 26.63595529,\n",
              "       26.44935148, 26.27604684, 26.1159571 , 25.96900669, 25.83512856,\n",
              "       25.71426397, 25.60636225, 25.51138074, 25.42928458, 25.36004665,\n",
              "       25.30364748, 25.26007518, 25.22932542, 25.21140144, 25.21185303])"
            ]
          },
          "metadata": {},
          "execution_count": 100
        }
      ]
    },
    {
      "cell_type": "code",
      "metadata": {
        "colab": {
          "base_uri": "https://localhost:8080/",
          "height": 621
        },
        "id": "zgnyQIlNJ3Kk",
        "outputId": "6487a9ab-086a-4a79-9ec0-fcf72198385d"
      },
      "source": [
        "plt.figure(figsize = (12,10))\n",
        "plt.scatter (df_admitted['exam_1'], df_admitted['exam_2'], color='green', marker = '+', label='Admitted Applicants')\n",
        "plt.scatter (df_notadmitted['exam_1'], df_notadmitted['exam_2'], color='red', marker = '*', label='Not Admitted Applicants')\n",
        "plt.xlabel('Exam 1 Marks')\n",
        "plt.ylabel('Exam 2 Marks')\n",
        "\n",
        "\n",
        "plt.plot (x_values, y_values, color='blue', label='Decision Boundary')\n",
        "plt.legend()\n",
        "plt.title ('Decision Boundary with Non-linear hypothesis')\n",
        "warnings.filterwarnings ('ignore')"
      ],
      "execution_count": null,
      "outputs": [
        {
          "output_type": "display_data",
          "data": {
            "image/png": "[encoded data removed]",
            "text/plain": [
              "<Figure size 864x720 with 1 Axes>"
            ]
          },
          "metadata": {
            "needs_background": "light"
          }
        }
      ]
    },
    {
      "cell_type": "code",
      "metadata": {
        "colab": {
          "base_uri": "https://localhost:8080/"
        },
        "id": "zeDdZ_oJJ6eu",
        "outputId": "0be2e74a-6038-4853-d9e3-c27dcd0a825f"
      },
      "source": [
        "p = predict (theta, X)\n",
        "print ('Accuracy:', np.mean (p == y)* 100, '%')"
      ],
      "execution_count": null,
      "outputs": [
        {
          "output_type": "stream",
          "name": "stdout",
          "text": [
            "Accuracy: 66.0 %\n"
          ]
        }
      ]
    },
    {
      "cell_type": "code",
      "metadata": {
        "id": "igCETTRaMp7v"
      },
      "source": [
        ""
      ],
      "execution_count": null,
      "outputs": []
    }
  ]
}