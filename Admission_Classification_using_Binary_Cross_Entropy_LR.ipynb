{
  "nbformat": 4,
  "nbformat_minor": 0,
  "metadata": {
    "colab": {
      "name": "Admission Classification using Binary Cross-Entropy LR.ipynb",
      "provenance": [],
      "collapsed_sections": []
    },
    "kernelspec": {
      "display_name": "Python 3",
      "name": "python3"
    },
    "language_info": {
      "name": "python"
    }
  },
  "cells": [
    {
      "cell_type": "code",
      "metadata": {
        "id": "ONT52Cl3kAzn"
      },
      "source": [
        "import pandas as pd\n",
        "import numpy as np\n",
        "import matplotlib.pyplot as plt\n",
        "import scipy.optimize as opt\n",
        "import warnings\n",
        "import math\n",
        "warnings.filterwarnings ('ignore')"
      ],
      "execution_count": null,
      "outputs": []
    },
    {
      "cell_type": "code",
      "metadata": {
        "colab": {
          "base_uri": "https://localhost:8080/",
          "height": 363
        },
        "id": "DaUnISq_kSDX",
        "outputId": "db6e5bdd-c7f8-4c93-ee35-21abf3639926"
      },
      "source": [
        "# Load data\n",
        "df = pd.read_csv ('https://raw.githubusercontent.com/satishgunjal/datasets/master/admission_basedon_exam_scores.csv')\n",
        "df.head (10)"
      ],
      "execution_count": null,
      "outputs": [
        {
          "output_type": "execute_result",
          "data": {
            "text/html": [
              "<div>\n",
              "<style scoped>\n",
              "    .dataframe tbody tr th:only-of-type {\n",
              "        vertical-align: middle;\n",
              "    }\n",
              "\n",
              "    .dataframe tbody tr th {\n",
              "        vertical-align: top;\n",
              "    }\n",
              "\n",
              "    .dataframe thead th {\n",
              "        text-align: right;\n",
              "    }\n",
              "</style>\n",
              "<table border=\"1\" class=\"dataframe\">\n",
              "  <thead>\n",
              "    <tr style=\"text-align: right;\">\n",
              "      <th></th>\n",
              "      <th>Exam 1 marks</th>\n",
              "      <th>Exam 2 marks</th>\n",
              "      <th>Admission status</th>\n",
              "    </tr>\n",
              "  </thead>\n",
              "  <tbody>\n",
              "    <tr>\n",
              "      <th>0</th>\n",
              "      <td>34.623660</td>\n",
              "      <td>78.024693</td>\n",
              "      <td>0</td>\n",
              "    </tr>\n",
              "    <tr>\n",
              "      <th>1</th>\n",
              "      <td>30.286711</td>\n",
              "      <td>43.894998</td>\n",
              "      <td>0</td>\n",
              "    </tr>\n",
              "    <tr>\n",
              "      <th>2</th>\n",
              "      <td>35.847409</td>\n",
              "      <td>72.902198</td>\n",
              "      <td>0</td>\n",
              "    </tr>\n",
              "    <tr>\n",
              "      <th>3</th>\n",
              "      <td>60.182599</td>\n",
              "      <td>86.308552</td>\n",
              "      <td>1</td>\n",
              "    </tr>\n",
              "    <tr>\n",
              "      <th>4</th>\n",
              "      <td>79.032736</td>\n",
              "      <td>75.344376</td>\n",
              "      <td>1</td>\n",
              "    </tr>\n",
              "    <tr>\n",
              "      <th>5</th>\n",
              "      <td>45.083277</td>\n",
              "      <td>56.316372</td>\n",
              "      <td>0</td>\n",
              "    </tr>\n",
              "    <tr>\n",
              "      <th>6</th>\n",
              "      <td>61.106665</td>\n",
              "      <td>96.511426</td>\n",
              "      <td>1</td>\n",
              "    </tr>\n",
              "    <tr>\n",
              "      <th>7</th>\n",
              "      <td>75.024746</td>\n",
              "      <td>46.554014</td>\n",
              "      <td>1</td>\n",
              "    </tr>\n",
              "    <tr>\n",
              "      <th>8</th>\n",
              "      <td>76.098787</td>\n",
              "      <td>87.420570</td>\n",
              "      <td>1</td>\n",
              "    </tr>\n",
              "    <tr>\n",
              "      <th>9</th>\n",
              "      <td>84.432820</td>\n",
              "      <td>43.533393</td>\n",
              "      <td>1</td>\n",
              "    </tr>\n",
              "  </tbody>\n",
              "</table>\n",
              "</div>"
            ],
            "text/plain": [
              "   Exam 1 marks  Exam 2 marks  Admission status\n",
              "0     34.623660     78.024693                 0\n",
              "1     30.286711     43.894998                 0\n",
              "2     35.847409     72.902198                 0\n",
              "3     60.182599     86.308552                 1\n",
              "4     79.032736     75.344376                 1\n",
              "5     45.083277     56.316372                 0\n",
              "6     61.106665     96.511426                 1\n",
              "7     75.024746     46.554014                 1\n",
              "8     76.098787     87.420570                 1\n",
              "9     84.432820     43.533393                 1"
            ]
          },
          "metadata": {},
          "execution_count": 3
        }
      ]
    },
    {
      "cell_type": "code",
      "metadata": {
        "colab": {
          "base_uri": "https://localhost:8080/"
        },
        "id": "oQ0bgEAqkj19",
        "outputId": "538d9313-bbf0-4eb5-a2aa-2b8a6fac0fe3"
      },
      "source": [
        "df.columns = ['exam_1', 'exam_2', 'status']\n",
        "m, n = df.shape\n",
        "print ('Number of training examples: m =', m)\n",
        "print ('Number of features: n =', n - 1)"
      ],
      "execution_count": null,
      "outputs": [
        {
          "output_type": "stream",
          "name": "stdout",
          "text": [
            "Number of training examples: m = 100\n",
            "Number of features: n = 2\n"
          ]
        }
      ]
    },
    {
      "cell_type": "code",
      "metadata": {
        "colab": {
          "base_uri": "https://localhost:8080/"
        },
        "id": "HGrqcIndlG8x",
        "outputId": "88d22e8d-a698-4776-f25e-d94a89932bc3"
      },
      "source": [
        "df_admitted = df[df['status'] == 1]\n",
        "print ('Dimenstion of admitted data', df_admitted.shape)"
      ],
      "execution_count": null,
      "outputs": [
        {
          "output_type": "stream",
          "name": "stdout",
          "text": [
            "Dimenstion of admitted data (60, 3)\n"
          ]
        }
      ]
    },
    {
      "cell_type": "code",
      "metadata": {
        "colab": {
          "base_uri": "https://localhost:8080/"
        },
        "id": "Pf4Tj3R0lj8N",
        "outputId": "b8b8601e-13c3-4b82-de25-835bf6e0f43a"
      },
      "source": [
        "df_notadmitted = df[df['status'] == 0]\n",
        "print ('Dimenstion of not admitted data', df_notadmitted.shape)"
      ],
      "execution_count": null,
      "outputs": [
        {
          "output_type": "stream",
          "name": "stdout",
          "text": [
            "Dimenstion of not admitted data (40, 3)\n"
          ]
        }
      ]
    },
    {
      "cell_type": "code",
      "metadata": {
        "colab": {
          "base_uri": "https://localhost:8080/",
          "height": 513
        },
        "id": "hGmXe4ntlptp",
        "outputId": "2d7cdfdd-04cb-484a-e0cf-e48986566bfa"
      },
      "source": [
        "plt.figure (figsize= (10, 8))\n",
        "plt.scatter (df_admitted['exam_1'], df_admitted['exam_2'], c= 'g', marker = '+', label = 'Admitted')\n",
        "plt.scatter (df_notadmitted['exam_1'], df_notadmitted['exam_2'], c= 'r', marker = 'x', label = 'Not Admitted')\n",
        "plt.xlabel ('Exam 1 marks')\n",
        "plt.ylabel ('Exam 2 marks')\n",
        "plt.legend ()\n",
        "plt.title ('Admitted vs Not Admitted application')\n",
        "warnings.filterwarnings ('ignore')"
      ],
      "execution_count": null,
      "outputs": [
        {
          "output_type": "display_data",
          "data": {
            "image/png": "[encoded data removed]",
            "text/plain": [
              "<Figure size 720x576 with 1 Axes>"
            ]
          },
          "metadata": {
            "needs_background": "light"
          }
        }
      ]
    },
    {
      "cell_type": "code",
      "metadata": {
        "colab": {
          "base_uri": "https://localhost:8080/"
        },
        "id": "MFddr_-tmBI8",
        "outputId": "1662b23c-3ffd-4342-ef5c-b33bc963d68a"
      },
      "source": [
        "\n",
        "X = df.iloc [:, 0:2]\n",
        "# Add bias '1' into X\n",
        "X = np.hstack((np.ones((m, 1)), X))\n",
        "print ('Dimension of features matrix X =', X.shape, '\\n')\n",
        "\n",
        "y = df.iloc[:, -1]\n",
        "for i in range (5):\n",
        "  print ('x =', X[i, ], ',y =', y[i])"
      ],
      "execution_count": null,
      "outputs": [
        {
          "output_type": "stream",
          "name": "stdout",
          "text": [
            "Dimension of features matrix X = (100, 3) \n",
            "\n",
            "x = [ 1.         34.62365962 78.02469282] ,y = 0\n",
            "x = [ 1.         30.28671077 43.89499752] ,y = 0\n",
            "x = [ 1.         35.84740877 72.90219803] ,y = 0\n",
            "x = [ 1.         60.18259939 86.3085521 ] ,y = 1\n",
            "x = [ 1.         79.03273605 75.34437644] ,y = 1\n"
          ]
        }
      ]
    },
    {
      "cell_type": "markdown",
      "metadata": {
        "id": "CsJAzal6aFTL"
      },
      "source": [
        "# Linear hypothesis\n"
      ]
    },
    {
      "cell_type": "code",
      "metadata": {
        "colab": {
          "base_uri": "https://localhost:8080/"
        },
        "id": "IN9dFIrCriiH",
        "outputId": "6345ca25-4e61-4f8f-cdea-0034f17742f1"
      },
      "source": [
        "theta = np.zeros (n)\n",
        "theta"
      ],
      "execution_count": null,
      "outputs": [
        {
          "output_type": "execute_result",
          "data": {
            "text/plain": [
              "array([0., 0., 0.])"
            ]
          },
          "metadata": {},
          "execution_count": 9
        }
      ]
    },
    {
      "cell_type": "code",
      "metadata": {
        "id": "jD7YQhO9rqvt"
      },
      "source": [
        "# Create functions\n",
        "def sigmoid (z):\n",
        "    g = 1 / (1 + np.exp(-z))\n",
        "    return g\n",
        "\n",
        "\n",
        "def cost_function (theta, X , y):\n",
        "    m, n = X.shape\n",
        "    x_dot_theta = X.dot(theta)\n",
        "\n",
        "    J = 1.0 / m * (-y.T.dot(np.log(sigmoid(x_dot_theta))) - (1 - y).T.dot(np.log(1 - sigmoid(x_dot_theta))))\n",
        "\n",
        "    return J\n",
        "\n",
        "\n",
        "def gradient (theta, X, y):\n",
        "    m, n = X.shape\n",
        "    x_dot_theta = X.dot(theta)\n",
        "\n",
        "    grad = 1.0 / m * (sigmoid(x_dot_theta) - y).T.dot(X)\n",
        "\n",
        "    return grad"
      ],
      "execution_count": null,
      "outputs": []
    },
    {
      "cell_type": "code",
      "metadata": {
        "colab": {
          "base_uri": "https://localhost:8080/"
        },
        "id": "GNo-Oizpt9j0",
        "outputId": "21179cc5-0338-4ae6-a8ad-d980c1abb50d"
      },
      "source": [
        "cost = cost_function (theta, X, y)\n",
        "print ('Cost at initial theta(zeros):', cost)\n",
        "grad = gradient (theta, X, y)\n",
        "print (\"Gradient at inital theta(zeros):\", grad)"
      ],
      "execution_count": null,
      "outputs": [
        {
          "output_type": "stream",
          "name": "stdout",
          "text": [
            "Cost at initial theta(zeros): 0.6931471805599453\n",
            "Gradient at inital theta(zeros): [ -0.1        -12.00921659 -11.26284221]\n"
          ]
        }
      ]
    },
    {
      "cell_type": "code",
      "metadata": {
        "colab": {
          "base_uri": "https://localhost:8080/"
        },
        "id": "e3jEuEZKud0T",
        "outputId": "4a896ffe-1f24-4843-de6e-e9797e157de6"
      },
      "source": [
        "# Using Advance Opimisation Technique to find theta\n",
        "\n",
        "'''\n",
        "fmin_tnc function takes 4 arguments:\n",
        "- func: Cost function to minimise\n",
        "- fprime: Gradient for the function defined by 'func'\n",
        "- x0: inital theta\n",
        "- arg: features & label values\n",
        "'''\n",
        "\n",
        "theta, nfeval, rc = opt.fmin_tnc(func = cost_function, fprime = gradient, x0 = theta, args = (X, y))\n",
        "\n",
        "cost = cost_function (theta, X, y)\n",
        "print ('Cost at theta found by fminunc:', cost)\n",
        "print ('theta:', theta)"
      ],
      "execution_count": null,
      "outputs": [
        {
          "output_type": "stream",
          "name": "stdout",
          "text": [
            "Cost at theta found by fminunc: 0.20349770158947436\n",
            "theta: [-25.16131865   0.20623159   0.20147149]\n"
          ]
        }
      ]
    },
    {
      "cell_type": "code",
      "metadata": {
        "colab": {
          "base_uri": "https://localhost:8080/",
          "height": 621
        },
        "id": "n6v7Su86wrxc",
        "outputId": "d9130506-76f0-4367-dcde-2c0e6c582dfa"
      },
      "source": [
        "x_values = [min(X[:,1]), np.max(X[:, 2])]\n",
        "y_values = -(theta[0] + np.dot(theta[1], x_values))/ theta[2]\n",
        "\n",
        "plt.figure(figsize = (12,10))\n",
        "plt.scatter (df_admitted['exam_1'], df_admitted['exam_2'], color='green', marker = '+', label='Admitted Applicants')\n",
        "plt.scatter (df_notadmitted['exam_1'], df_notadmitted['exam_2'], color='red', marker = '*', label='Not Admitted Applicants')\n",
        "plt.xlabel('Exam 1 Marks')\n",
        "plt.ylabel('Exam 2 Marks')\n",
        "\n",
        "plt.plot(x_values, y_values, color='blue', label='Decision Boundary')\n",
        "plt.legend()\n",
        "plt.title('Decision Boundary with Linear hypothesis')\n",
        "warnings.filterwarnings ('ignore')"
      ],
      "execution_count": null,
      "outputs": [
        {
          "output_type": "display_data",
          "data": {
            "image/png": "[encoded data removed]",
            "text/plain": [
              "<Figure size 864x720 with 1 Axes>"
            ]
          },
          "metadata": {
            "needs_background": "light"
          }
        }
      ]
    },
    {
      "cell_type": "markdown",
      "metadata": {
        "id": "9gHMba9G00Zu"
      },
      "source": [
        "*Model testing*"
      ]
    },
    {
      "cell_type": "code",
      "metadata": {
        "colab": {
          "base_uri": "https://localhost:8080/"
        },
        "id": "RA78F4Mxw1fj",
        "outputId": "76539994-421b-485c-ed5b-34fb7621a481"
      },
      "source": [
        "# Model testing\n",
        "'''\n",
        "Question: Predict an admisstion probability for applicant with Exam 1: 45 and Exam 2: 85\n",
        "'''\n",
        "input_data = np.array ([1, 45, 85])\n",
        "prob = sigmoid (np.dot(input_data, theta))\n",
        "print ('Admission for applicant with score for Exam 1: 45 and Exam 2: 85 is', prob)"
      ],
      "execution_count": null,
      "outputs": [
        {
          "output_type": "stream",
          "name": "stdout",
          "text": [
            "Admission for applicant with score for Exam 1: 45 and Exam 2: 85 is 0.7762906229081791\n"
          ]
        }
      ]
    },
    {
      "cell_type": "code",
      "metadata": {
        "id": "sonGXP-amfGM"
      },
      "source": [
        "def predict (theta, X):\n",
        "    p = sigmoid (X.dot(theta)) >= 0.5\n",
        "    return p.astype (int)"
      ],
      "execution_count": null,
      "outputs": []
    },
    {
      "cell_type": "code",
      "metadata": {
        "colab": {
          "base_uri": "https://localhost:8080/"
        },
        "id": "vTgdzbdd0tno",
        "outputId": "d88bb50d-fa73-448b-de1e-482100cdb09b"
      },
      "source": [
        "p = predict (theta, X)\n",
        "print ('Accuracy:', np.mean (p == y)* 100, '%')"
      ],
      "execution_count": null,
      "outputs": [
        {
          "output_type": "stream",
          "name": "stdout",
          "text": [
            "Accuracy: 89.0 %\n"
          ]
        }
      ]
    },
    {
      "cell_type": "markdown",
      "metadata": {
        "id": "zY0N8nVodJGL"
      },
      "source": [
        "# Non-linear hypothesis "
      ]
    },
    {
      "cell_type": "code",
      "metadata": {
        "colab": {
          "base_uri": "https://localhost:8080/",
          "height": 206
        },
        "id": "knCBoIQduyHp",
        "outputId": "6aa6cdfe-f6cb-427b-fe59-e98089f47cb3"
      },
      "source": [
        "df.head ()"
      ],
      "execution_count": null,
      "outputs": [
        {
          "output_type": "execute_result",
          "data": {
            "text/html": [
              "<div>\n",
              "<style scoped>\n",
              "    .dataframe tbody tr th:only-of-type {\n",
              "        vertical-align: middle;\n",
              "    }\n",
              "\n",
              "    .dataframe tbody tr th {\n",
              "        vertical-align: top;\n",
              "    }\n",
              "\n",
              "    .dataframe thead th {\n",
              "        text-align: right;\n",
              "    }\n",
              "</style>\n",
              "<table border=\"1\" class=\"dataframe\">\n",
              "  <thead>\n",
              "    <tr style=\"text-align: right;\">\n",
              "      <th></th>\n",
              "      <th>exam_1</th>\n",
              "      <th>exam_2</th>\n",
              "      <th>status</th>\n",
              "    </tr>\n",
              "  </thead>\n",
              "  <tbody>\n",
              "    <tr>\n",
              "      <th>0</th>\n",
              "      <td>34.623660</td>\n",
              "      <td>78.024693</td>\n",
              "      <td>0</td>\n",
              "    </tr>\n",
              "    <tr>\n",
              "      <th>1</th>\n",
              "      <td>30.286711</td>\n",
              "      <td>43.894998</td>\n",
              "      <td>0</td>\n",
              "    </tr>\n",
              "    <tr>\n",
              "      <th>2</th>\n",
              "      <td>35.847409</td>\n",
              "      <td>72.902198</td>\n",
              "      <td>0</td>\n",
              "    </tr>\n",
              "    <tr>\n",
              "      <th>3</th>\n",
              "      <td>60.182599</td>\n",
              "      <td>86.308552</td>\n",
              "      <td>1</td>\n",
              "    </tr>\n",
              "    <tr>\n",
              "      <th>4</th>\n",
              "      <td>79.032736</td>\n",
              "      <td>75.344376</td>\n",
              "      <td>1</td>\n",
              "    </tr>\n",
              "  </tbody>\n",
              "</table>\n",
              "</div>"
            ],
            "text/plain": [
              "      exam_1     exam_2  status\n",
              "0  34.623660  78.024693       0\n",
              "1  30.286711  43.894998       0\n",
              "2  35.847409  72.902198       0\n",
              "3  60.182599  86.308552       1\n",
              "4  79.032736  75.344376       1"
            ]
          },
          "metadata": {},
          "execution_count": 18
        }
      ]
    },
    {
      "cell_type": "markdown",
      "metadata": {
        "id": "BoYSO3ZoxIhp"
      },
      "source": [
        "*Adding features into existing data*"
      ]
    },
    {
      "cell_type": "code",
      "metadata": {
        "id": "BwdN247OumVX"
      },
      "source": [
        "df_mapping = df"
      ],
      "execution_count": null,
      "outputs": []
    },
    {
      "cell_type": "code",
      "metadata": {
        "colab": {
          "base_uri": "https://localhost:8080/",
          "height": 206
        },
        "id": "qHIrMCUjvaIQ",
        "outputId": "89337cb0-4c79-480f-acdc-69d000c3434e"
      },
      "source": [
        "df_mapping ['exam_1'] = round (df_mapping['exam_1'], 2)\n",
        "df_mapping ['exam_2'] = round (df_mapping['exam_2'], 2)\n",
        "df_mapping ['exam_1**2'] = round (df_mapping['exam_1']**2, 2)\n",
        "df_mapping ['exam_2**2'] = round (df_mapping['exam_2']**2, 2)\n",
        "df_mapping ['exam_1**exam_2'] = round (df_mapping['exam_1']*df_mapping['exam_2'], 2)\n",
        "df_mapping = df_mapping [['exam_1', 'exam_2', 'exam_1**2', 'exam_2**2', 'exam_1**exam_2', 'status']]\n",
        "\n",
        "df_mapping.head ()"
      ],
      "execution_count": null,
      "outputs": [
        {
          "output_type": "execute_result",
          "data": {
            "text/html": [
              "<div>\n",
              "<style scoped>\n",
              "    .dataframe tbody tr th:only-of-type {\n",
              "        vertical-align: middle;\n",
              "    }\n",
              "\n",
              "    .dataframe tbody tr th {\n",
              "        vertical-align: top;\n",
              "    }\n",
              "\n",
              "    .dataframe thead th {\n",
              "        text-align: right;\n",
              "    }\n",
              "</style>\n",
              "<table border=\"1\" class=\"dataframe\">\n",
              "  <thead>\n",
              "    <tr style=\"text-align: right;\">\n",
              "      <th></th>\n",
              "      <th>exam_1</th>\n",
              "      <th>exam_2</th>\n",
              "      <th>exam_1**2</th>\n",
              "      <th>exam_2**2</th>\n",
              "      <th>exam_1**exam_2</th>\n",
              "      <th>status</th>\n",
              "    </tr>\n",
              "  </thead>\n",
              "  <tbody>\n",
              "    <tr>\n",
              "      <th>0</th>\n",
              "      <td>34.62</td>\n",
              "      <td>78.02</td>\n",
              "      <td>1198.54</td>\n",
              "      <td>6087.12</td>\n",
              "      <td>2701.05</td>\n",
              "      <td>0</td>\n",
              "    </tr>\n",
              "    <tr>\n",
              "      <th>1</th>\n",
              "      <td>30.29</td>\n",
              "      <td>43.89</td>\n",
              "      <td>917.48</td>\n",
              "      <td>1926.33</td>\n",
              "      <td>1329.43</td>\n",
              "      <td>0</td>\n",
              "    </tr>\n",
              "    <tr>\n",
              "      <th>2</th>\n",
              "      <td>35.85</td>\n",
              "      <td>72.90</td>\n",
              "      <td>1285.22</td>\n",
              "      <td>5314.41</td>\n",
              "      <td>2613.46</td>\n",
              "      <td>0</td>\n",
              "    </tr>\n",
              "    <tr>\n",
              "      <th>3</th>\n",
              "      <td>60.18</td>\n",
              "      <td>86.31</td>\n",
              "      <td>3621.63</td>\n",
              "      <td>7449.42</td>\n",
              "      <td>5194.14</td>\n",
              "      <td>1</td>\n",
              "    </tr>\n",
              "    <tr>\n",
              "      <th>4</th>\n",
              "      <td>79.03</td>\n",
              "      <td>75.34</td>\n",
              "      <td>6245.74</td>\n",
              "      <td>5676.12</td>\n",
              "      <td>5954.12</td>\n",
              "      <td>1</td>\n",
              "    </tr>\n",
              "  </tbody>\n",
              "</table>\n",
              "</div>"
            ],
            "text/plain": [
              "   exam_1  exam_2  exam_1**2  exam_2**2  exam_1**exam_2  status\n",
              "0   34.62   78.02    1198.54    6087.12         2701.05       0\n",
              "1   30.29   43.89     917.48    1926.33         1329.43       0\n",
              "2   35.85   72.90    1285.22    5314.41         2613.46       0\n",
              "3   60.18   86.31    3621.63    7449.42         5194.14       1\n",
              "4   79.03   75.34    6245.74    5676.12         5954.12       1"
            ]
          },
          "metadata": {},
          "execution_count": 20
        }
      ]
    },
    {
      "cell_type": "code",
      "metadata": {
        "colab": {
          "base_uri": "https://localhost:8080/"
        },
        "id": "QqFDIG-ivnmd",
        "outputId": "cd863f31-dc98-4bdb-f97c-3e6646091e3a"
      },
      "source": [
        "m, n = df.shape\n",
        "print ('Number of training examples: m =', m)\n",
        "print ('Number of features: n =', n - 1)"
      ],
      "execution_count": null,
      "outputs": [
        {
          "output_type": "stream",
          "name": "stdout",
          "text": [
            "Number of training examples: m = 100\n",
            "Number of features: n = 5\n"
          ]
        }
      ]
    },
    {
      "cell_type": "markdown",
      "metadata": {
        "id": "sOqIM1QcxeL6"
      },
      "source": [
        "*Convert data into numpy array*"
      ]
    },
    {
      "cell_type": "code",
      "metadata": {
        "colab": {
          "base_uri": "https://localhost:8080/"
        },
        "id": "zWwkzMVQxU7h",
        "outputId": "5c184310-1e7b-48a2-b332-4f475024afe2"
      },
      "source": [
        "# Compute cost function\n",
        "X = df_mapping.iloc [:, 0:5]\n",
        "# Add bias '1' into X\n",
        "X = np.hstack((np.ones((m, 1)), X))\n",
        "print ('Dimension of features matrix X =', X.shape, '\\n')\n",
        "\n",
        "y = df_mapping.iloc[:, -1]\n",
        "for i in range (5):\n",
        "  print ('x =', X[i, ], ',y =', y[i])"
      ],
      "execution_count": null,
      "outputs": [
        {
          "output_type": "stream",
          "name": "stdout",
          "text": [
            "Dimension of features matrix X = (100, 6) \n",
            "\n",
            "x = [1.00000e+00 3.46200e+01 7.80200e+01 1.19854e+03 6.08712e+03 2.70105e+03] ,y = 0\n",
            "x = [1.00000e+00 3.02900e+01 4.38900e+01 9.17480e+02 1.92633e+03 1.32943e+03] ,y = 0\n",
            "x = [1.00000e+00 3.58500e+01 7.29000e+01 1.28522e+03 5.31441e+03 2.61346e+03] ,y = 0\n",
            "x = [1.00000e+00 6.01800e+01 8.63100e+01 3.62163e+03 7.44942e+03 5.19414e+03] ,y = 1\n",
            "x = [1.00000e+00 7.90300e+01 7.53400e+01 6.24574e+03 5.67612e+03 5.95412e+03] ,y = 1\n"
          ]
        }
      ]
    },
    {
      "cell_type": "code",
      "metadata": {
        "colab": {
          "base_uri": "https://localhost:8080/"
        },
        "id": "r1iB0BQ7xqWw",
        "outputId": "f7cc6bfc-a6af-4b5c-ac80-8f664b2568ec"
      },
      "source": [
        "theta = np.zeros (n)\n",
        "theta"
      ],
      "execution_count": null,
      "outputs": [
        {
          "output_type": "execute_result",
          "data": {
            "text/plain": [
              "array([0., 0., 0., 0., 0., 0.])"
            ]
          },
          "metadata": {},
          "execution_count": 23
        }
      ]
    },
    {
      "cell_type": "code",
      "metadata": {
        "colab": {
          "base_uri": "https://localhost:8080/"
        },
        "id": "LbMYkJpIyyPA",
        "outputId": "3f3fc94a-be84-4af0-8655-bd8c502b0892"
      },
      "source": [
        "cost = cost_function (theta, X, y)\n",
        "print ('Cost at initial theta(zeros):', cost)\n",
        "grad = gradient (theta, X, y)\n",
        "print (\"Gradient at inital theta(zeros):\", grad)"
      ],
      "execution_count": null,
      "outputs": [
        {
          "output_type": "stream",
          "name": "stdout",
          "text": [
            "Cost at initial theta(zeros): 0.6931471805599453\n",
            "Gradient at inital theta(zeros): [-1.00000000e-01 -1.20091500e+01 -1.12627500e+01 -1.13894710e+03\n",
            " -1.06938815e+03 -1.09871105e+03]\n"
          ]
        }
      ]
    },
    {
      "cell_type": "code",
      "metadata": {
        "colab": {
          "base_uri": "https://localhost:8080/"
        },
        "id": "ThHmAF6g0D2W",
        "outputId": "2f539567-7876-4ca9-b8eb-4162658f4517"
      },
      "source": [
        "theta, nfeval, rc = opt.fmin_tnc(func = cost_function, fprime = gradient, x0 = theta, args = (X, y))\n",
        "\n",
        "cost = cost_function (theta, X, y)\n",
        "print ('Cost at theta found by fminunc:', cost)\n",
        "print ('theta:', theta)"
      ],
      "execution_count": null,
      "outputs": [
        {
          "output_type": "stream",
          "name": "stdout",
          "text": [
            "Cost at theta found by fminunc: 0.09308671995225984\n",
            "theta: [-1.86658031e-02 -3.75098825e-01 -3.09458464e-01  1.07058575e-03\n",
            "  3.51029612e-04  1.03063990e-02]\n"
          ]
        }
      ]
    },
    {
      "cell_type": "markdown",
      "metadata": {
        "id": "mbjvOkPB2QRT"
      },
      "source": [
        "*Visualising data with features mapping*"
      ]
    },
    {
      "cell_type": "code",
      "metadata": {
        "id": "Vftn0YGoXQEG"
      },
      "source": [
        "def quadratic (a, b, c):\n",
        "    # Just return x > 0\n",
        "    delta = b**2 - 4*a*c\n",
        "    if (delta >= 0):\n",
        "        x1 = ((-b + math.sqrt(delta)) / (2*a))\n",
        "        x2 = ((-b - math.sqrt(delta)) / (2*a))\n",
        "    if (x1 > 0):\n",
        "        return (x1)\n",
        "    elif (x2 > 0):\n",
        "        return (x2)\n"
      ],
      "execution_count": null,
      "outputs": []
    },
    {
      "cell_type": "code",
      "metadata": {
        "colab": {
          "base_uri": "https://localhost:8080/"
        },
        "id": "3RyfFVW4emrW",
        "outputId": "3b4513f6-71f5-417c-cc71-20dc52613313"
      },
      "source": [
        "x_values = np.concatenate ((np.linspace (39, 98, 60),[max(X[:,1])]))\n",
        "x_values\n"
      ],
      "execution_count": null,
      "outputs": [
        {
          "output_type": "execute_result",
          "data": {
            "text/plain": [
              "array([39.  , 40.  , 41.  , 42.  , 43.  , 44.  , 45.  , 46.  , 47.  ,\n",
              "       48.  , 49.  , 50.  , 51.  , 52.  , 53.  , 54.  , 55.  , 56.  ,\n",
              "       57.  , 58.  , 59.  , 60.  , 61.  , 62.  , 63.  , 64.  , 65.  ,\n",
              "       66.  , 67.  , 68.  , 69.  , 70.  , 71.  , 72.  , 73.  , 74.  ,\n",
              "       75.  , 76.  , 77.  , 78.  , 79.  , 80.  , 81.  , 82.  , 83.  ,\n",
              "       84.  , 85.  , 86.  , 87.  , 88.  , 89.  , 90.  , 91.  , 92.  ,\n",
              "       93.  , 94.  , 95.  , 96.  , 97.  , 98.  , 99.83])"
            ]
          },
          "metadata": {},
          "execution_count": 27
        }
      ]
    },
    {
      "cell_type": "code",
      "metadata": {
        "colab": {
          "base_uri": "https://localhost:8080/"
        },
        "id": "HLSGSwbqloUW",
        "outputId": "5fee306d-cf02-469f-a759-435578565f46"
      },
      "source": [
        "y_values = []\n",
        "for x_value in x_values:\n",
        "    a = theta[4]\n",
        "    b = np.dot (theta[5], x_value) + theta[2]\n",
        "    c = theta[0] + np.dot(theta[1], x_value) + np.dot(theta[3], x_value**2)\n",
        "    y_value = quadratic (a, b, c)\n",
        "    y_values.append (y_value)\n",
        "y_values = np.asarray (y_values)\n",
        "y_values"
      ],
      "execution_count": null,
      "outputs": [
        {
          "output_type": "execute_result",
          "data": {
            "text/plain": [
              "array([101.59108449,  97.20756255,  93.24285964,  89.64625676,\n",
              "        86.37354492,  83.38630991,  80.65122557,  78.13939151,\n",
              "        75.82573319,  73.68847022,  71.70865238,  69.86975859,\n",
              "        68.15735279,  66.55878995,  65.06296545,  63.6601018 ,\n",
              "        62.34156714,  61.09972074,  59.92778133,  58.81971476,\n",
              "        57.77013794,  56.77423657,  55.82769455,  54.92663317,\n",
              "        54.06755882,  53.24731761,  52.46305621,  51.71218775,\n",
              "        50.99236218,  50.30144034,  49.63747136,  48.99867278,\n",
              "        48.38341313,  47.79019656,  47.21764924,  46.66450744,\n",
              "        46.12960684,  45.6118731 ,  45.11031346,  44.62400927,\n",
              "        44.15210927,  43.69382358,  43.24841839,  42.81521109,\n",
              "        42.39356593,  41.98289013,  41.58263034,  41.19226944,\n",
              "        40.81132368,  40.43934   ,  40.07589373,  39.72058636,\n",
              "        39.37304359,  39.03291358,  38.69986521,  38.37358669,\n",
              "        38.05378409,  37.74018018,  37.43251318,  37.13053577,\n",
              "        36.59188551])"
            ]
          },
          "metadata": {},
          "execution_count": 28
        }
      ]
    },
    {
      "cell_type": "code",
      "metadata": {
        "colab": {
          "base_uri": "https://localhost:8080/",
          "height": 621
        },
        "id": "E9mswLSDWaSB",
        "outputId": "4c179a8e-6de4-47ed-e2e7-8c7df9e74434"
      },
      "source": [
        "plt.figure(figsize = (12,10))\n",
        "plt.scatter (df_admitted['exam_1'], df_admitted['exam_2'], color='green', marker = '+', label='Admitted Applicants')\n",
        "plt.scatter (df_notadmitted['exam_1'], df_notadmitted['exam_2'], color='red', marker = '*', label='Not Admitted Applicants')\n",
        "plt.xlabel('Exam 1 Marks')\n",
        "plt.ylabel('Exam 2 Marks')\n",
        "\n",
        "\n",
        "plt.plot (x_values, y_values, color='blue', label='Decision Boundary')\n",
        "plt.legend()\n",
        "plt.title ('Decision Boundary with Non-linear hypothesis')\n",
        "warnings.filterwarnings ('ignore')"
      ],
      "execution_count": null,
      "outputs": [
        {
          "output_type": "display_data",
          "data": {
            "image/png": "[encoded data removed]",
            "text/plain": [
              "<Figure size 864x720 with 1 Axes>"
            ]
          },
          "metadata": {
            "needs_background": "light"
          }
        }
      ]
    },
    {
      "cell_type": "markdown",
      "metadata": {
        "id": "rk3hzzXNqoav"
      },
      "source": [
        "*Model testing*"
      ]
    },
    {
      "cell_type": "code",
      "metadata": {
        "colab": {
          "base_uri": "https://localhost:8080/"
        },
        "id": "1eVEEn2Sqr-T",
        "outputId": "2731f82c-d46d-4bba-fcf8-938a264fba12"
      },
      "source": [
        "p = predict (theta, X)\n",
        "print ('Accuracy:', np.mean (p == y)* 100, '%')"
      ],
      "execution_count": null,
      "outputs": [
        {
          "output_type": "stream",
          "name": "stdout",
          "text": [
            "Accuracy: 95.0 %\n"
          ]
        }
      ]
    },
    {
      "cell_type": "code",
      "metadata": {
        "colab": {
          "base_uri": "https://localhost:8080/"
        },
        "id": "myxyfSK2qseT",
        "outputId": "5987c81e-a527-463c-ca5b-cbd282b5c65e"
      },
      "source": [
        "'''\n",
        "Question: Predict an admisstion probability for applicant with Exam 1: 45 and Exam 2: 85\n",
        "'''\n",
        "input_data = np.array ([1, 45, 85, 45**2, 85**2, 45*85])\n",
        "prob = sigmoid (np.dot(input_data, theta))\n",
        "print ('Admission for applicant with score for Exam 1: 45 and Exam 2: 85 is', round(prob*100, 2), '%')"
      ],
      "execution_count": null,
      "outputs": [
        {
          "output_type": "stream",
          "name": "stdout",
          "text": [
            "Admission for applicant with score for Exam 1: 45 and Exam 2: 85 is 71.59 %\n"
          ]
        }
      ]
    },
    {
      "cell_type": "code",
      "metadata": {
        "id": "XY_KeFsuBL7z"
      },
      "source": [
        ""
      ],
      "execution_count": null,
      "outputs": []
    }
  ]
}